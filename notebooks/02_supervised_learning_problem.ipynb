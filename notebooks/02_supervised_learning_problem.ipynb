{
 "cells": [
  {
   "cell_type": "markdown",
   "id": "5eb8c31b",
   "metadata": {
    "slideshow": {
     "slide_type": "slide"
    }
   },
   "source": [
    "# Supervised Learning Problem\n",
    "\n",
    "[![Binder](https://mybinder.org/badge_logo.svg)](https://mybinder.org/v2/git/https%3A%2F%2Fgitlab.in2p3.fr%2Fenergy4climate%2Fpublic%2Feducation%2Fmachine_learning_for_climate_and_energy/master?filepath=book%2Fnotebooks%2F02_supervised_learning_problem.ipynb)"
   ]
  },
  {
   "cell_type": "markdown",
   "id": "3a485dc1",
   "metadata": {
    "slideshow": {
     "slide_type": "subslide"
    }
   },
   "source": [
    "<div class=\"alert alert-block alert-warning\">\n",
    "    <b>Prerequisites</b>\n",
    "    \n",
    "- [Elements of Probability Theory](appendix_elements_of_probability_theory.ipynb)  \n",
    "- Define *supervised* and *unsupervised* learning\n",
    "- Give the difference between *qualitative* and *quantitative* variables and define of *regression* and *classification*\n",
    "</div>"
   ]
  },
  {
   "cell_type": "markdown",
   "id": "8790b2ae",
   "metadata": {
    "slideshow": {
     "slide_type": "subslide"
    }
   },
   "source": [
    "<div class=\"alert alert-block alert-info\">\n",
    "    <b>Learning Outcomes</b>\n",
    "    \n",
    "- Define a supervised learning problem\n",
    "</div>"
   ]
  },
  {
   "cell_type": "markdown",
   "id": "98d2a305",
   "metadata": {
    "slideshow": {
     "slide_type": "subslide"
    }
   },
   "source": [
    "## Example: Home Heating\n",
    "\n",
    "<img alt=\"Thermostat\" src=\"images/erik-mclean-fSLI8RdCdyk-unsplash.jpg\" width=500  style=\"float:right\">\n",
    "\n",
    "When its cold in my accommodation, I heat it.\n",
    "\n",
    "$\\rightarrow$ I suspect a relationship between the energy I consume to heat my accommodation and the outdoor temperature, although other factors may also play a role."
   ]
  },
  {
   "cell_type": "markdown",
   "id": "3dffe444",
   "metadata": {
    "slideshow": {
     "slide_type": "fragment"
    }
   },
   "source": [
    "How to *predict* how much energy I consume on average depending on the outdoor temperature ?"
   ]
  },
  {
   "cell_type": "markdown",
   "id": "d265d6fa",
   "metadata": {
    "slideshow": {
     "slide_type": "subslide"
    }
   },
   "source": [
    "### Three Different Approaches to Home-Heating Modeling\n",
    "\n",
    "| Process-based | Expert-based | *Statistical* |\n",
    "| --- | --- | --- |\n",
    "| Use some approximation of the heat equation in my accommodation given heat sources (radiators) and sinks (outdoor). | A thermal engineer diagnoses my accommodation based on his/her knowledge and/or on conventions. | Use energy-consumption and outdoor-temperature data to estimate parameters of a model. |\n",
    "| <img alt=\"Building Energy Model\" src=\"images/Heat_losses_of_the_building-fr.svg\" width=\"180\"> | <img alt=\"DPE\" src=\"images/Diagnostic_de_performance_énergétique.svg\" width=\"150\"> | <img alt=\"Statistical Model\" src=\"images/linear_ols.svg\" width=\"280\"> |"
   ]
  },
  {
   "cell_type": "markdown",
   "id": "d5ad72db",
   "metadata": {
    "slideshow": {
     "slide_type": "slide"
    }
   },
   "source": [
    "## Supervised Learning Objective\n",
    "\n",
    "To define a supervised-learning problem we need:\n",
    "\n",
    "- an *input* vector $\\boldsymbol{X}$ of $X_1, \\ldots, X_p$ input variables, or *features* and\n",
    "- an *output* or *target* variable $Y$ used for supervision."
   ]
  },
  {
   "cell_type": "markdown",
   "id": "6b72df4e",
   "metadata": {
    "slideshow": {
     "slide_type": "fragment"
    }
   },
   "source": [
    "<hr>\n",
    "\n",
    "**Supervised Learning Objective**\n",
    "<br>\n",
    "Construct the \"best\" prediction rule to predict $Y$ based on some *training data*: $(\\boldsymbol{x}_i, y_i), i = 1, \\ldots N$. \n",
    "\n",
    "<hr>"
   ]
  },
  {
   "cell_type": "markdown",
   "id": "fcf930c0",
   "metadata": {
    "slideshow": {
     "slide_type": "subslide"
    }
   },
   "source": [
    "### Supervised-Learning Flow: Fit and Predict\n",
    "\n",
    "<img alt=\"Pipeline Fit\" src=\"images/api_diagram-predictor.fit.svg\" width=\"500\">"
   ]
  },
  {
   "cell_type": "markdown",
   "id": "bcc234b6",
   "metadata": {
    "slideshow": {
     "slide_type": "fragment"
    }
   },
   "source": [
    "<img alt=\"Pipeline Fit\" src=\"images/api_diagram-predictor.predict.svg\" width=\"600\">"
   ]
  },
  {
   "cell_type": "markdown",
   "id": "98fede6e",
   "metadata": {
    "slideshow": {
     "slide_type": "subslide"
    }
   },
   "source": [
    "### Supervised-Learning Flow: Transform-Fit and Transform-Predict\n",
    "\n",
    "<img alt=\"Pipeline Fit\" src=\"images/api_diagram-pipeline.fit.svg\" width=\"750\">"
   ]
  },
  {
   "cell_type": "markdown",
   "id": "6d7104da",
   "metadata": {
    "slideshow": {
     "slide_type": "fragment"
    }
   },
   "source": [
    "<img alt=\"Pipeline Fit\" src=\"images/api_diagram-pipeline.predict.svg\" width=\"860\">"
   ]
  },
  {
   "cell_type": "markdown",
   "id": "fb097aee",
   "metadata": {
    "slideshow": {
     "slide_type": "subslide"
    }
   },
   "source": [
    "The $i$th *observation* of $X_j$ in the *sample* is given by the element $x_{ij}$ of the $N\\times p$ *input-data matrix* $\\mathbf{X}$.\n",
    "\n",
    "The $i$th observation of $y$ is given by the element $y_i$ of the $N \\times 1$ *output-data vector* $\\mathbf{y}$.\n",
    "\n",
    "> ***Question***\n",
    "> - Recall the unbiased estimates of the sample mean $\\bar{y}$ and the sample variance $s_Y^2$  of the random variable $Y$ for some data $y_i, 1 \\le i \\le N$.\n",
    "> - Recall the unbiased estimate of the sample covariance $q_{X, Y}$ between $X$ and $Y$ for $(x_i, y_i), 1 \\le i \\le N$."
   ]
  },
  {
   "cell_type": "markdown",
   "id": "30513405",
   "metadata": {
    "slideshow": {
     "slide_type": "subslide"
    }
   },
   "source": [
    "### Regression / Classification\n",
    "\n",
    "| Regression | Classification |\n",
    "| ------------------------------------- | --------------------------------------- |\n",
    "| $Y$ is quantitative | $Y$ is qualitative |\n",
    "| <img src=\"images/artur-solarz-hihmzc-TToc-unsplash.jpg\" width=\"350\"> | <img src=\"images/supervised.png\" width=\"300\"> |"
   ]
  },
  {
   "cell_type": "markdown",
   "id": "d9a34685",
   "metadata": {
    "slideshow": {
     "slide_type": "subslide"
    }
   },
   "source": [
    "### Example: Electricity Consumption Dependence on Temperature\n",
    "\n",
    "- *Raw input*: temperature averaged over an administrative region of metropolitan France\n",
    "- *Target*: regional electricity consumption\n",
    "\n",
    "Let's first get familiar with the raw input data."
   ]
  },
  {
   "cell_type": "code",
   "execution_count": 6,
   "id": "f9e9941c",
   "metadata": {
    "slideshow": {
     "slide_type": "subslide"
    }
   },
   "outputs": [
    {
     "ename": "ModuleNotFoundError",
     "evalue": "No module named 'holoviews'",
     "output_type": "error",
     "traceback": [
      "\u001b[1;31m---------------------------------------------------------------------------\u001b[0m",
      "\u001b[1;31mModuleNotFoundError\u001b[0m                       Traceback (most recent call last)",
      "Cell \u001b[1;32mIn[6], line 5\u001b[0m\n\u001b[0;32m      3\u001b[0m \u001b[38;5;28;01mimport\u001b[39;00m \u001b[38;5;21;01mnumpy\u001b[39;00m \u001b[38;5;28;01mas\u001b[39;00m \u001b[38;5;21;01mnp\u001b[39;00m\n\u001b[0;32m      4\u001b[0m \u001b[38;5;28;01mimport\u001b[39;00m \u001b[38;5;21;01mpandas\u001b[39;00m \u001b[38;5;28;01mas\u001b[39;00m \u001b[38;5;21;01mpd\u001b[39;00m\n\u001b[1;32m----> 5\u001b[0m \u001b[38;5;28;01mimport\u001b[39;00m \u001b[38;5;21;01mholoviews\u001b[39;00m \u001b[38;5;28;01mas\u001b[39;00m \u001b[38;5;21;01mhv\u001b[39;00m\n\u001b[0;32m      6\u001b[0m hv\u001b[38;5;241m.\u001b[39mextension(\u001b[38;5;124m'\u001b[39m\u001b[38;5;124mbokeh\u001b[39m\u001b[38;5;124m'\u001b[39m)\n\u001b[0;32m      7\u001b[0m \u001b[38;5;28;01mimport\u001b[39;00m \u001b[38;5;21;01mhvplot\u001b[39;00m\u001b[38;5;21;01m.\u001b[39;00m\u001b[38;5;21;01mpandas\u001b[39;00m\n",
      "\u001b[1;31mModuleNotFoundError\u001b[0m: No module named 'holoviews'"
     ]
    }
   ],
   "source": [
    "# Import modules\n",
    "from pathlib import Path\n",
    "import numpy as np\n",
    "import pandas as pd\n",
    "import holoviews as hv\n",
    "hv.extension('bokeh')\n",
    "import hvplot.pandas\n",
    "import panel as pn\n",
    "\n",
    "# Set data directory\n",
    "data_dir = Path('data')\n",
    "\n",
    "# Set keyword arguments for pd.read_csv\n",
    "kwargs_read_csv = dict(header=0, index_col=0, parse_dates=True)\n",
    "\n",
    "# Set first and last years\n",
    "FIRST_YEAR = 2014\n",
    "LAST_YEAR = 2021\n",
    "\n",
    "# Define file path\n",
    "filename = 'surface_temperature_merra2_{}-{}.csv'.format(\n",
    "    FIRST_YEAR, LAST_YEAR)\n",
    "filepath = Path(data_dir, filename)\n",
    "\n",
    "# Read hourly temperature data averaged over each region\n",
    "df_temp = pd.read_csv(filepath, **kwargs_read_csv).resample('D').mean()\n",
    "temp_lim = [-5, 30]\n",
    "label_temp = 'Temperature (°C)'"
   ]
  },
  {
   "cell_type": "code",
   "execution_count": 3,
   "id": "fa7aa559",
   "metadata": {
    "slideshow": {
     "slide_type": "subslide"
    }
   },
   "outputs": [],
   "source": [
    "WIDTH = 260\n",
    "# Scatter plot of demand versus temperature\n",
    "def plot_temp(region_name, year):\n",
    "    df = df_temp[[region_name]].loc[str(year)]\n",
    "    df.columns = [label_temp]\n",
    "    nt = df.shape[0]\n",
    "    std = float(df.std(0))\n",
    "    mean = pd.Series(df[label_temp].mean(), index=df.index)\n",
    "    df_std = pd.DataFrame(\n",
    "        {'low': mean - std, 'high': mean + std}, index=df.index)\n",
    "    cdf = pd.DataFrame(index=df.sort_values(by=label_temp).values[:, 0],\n",
    "                       data=(np.arange(nt)[:, None] + 1) / nt)\n",
    "    cdf.index.name = label_temp\n",
    "    cdf.columns = ['Probability']\n",
    "    pts = df.hvplot(ylim=temp_lim, title='', width=WIDTH).opts(\n",
    "        title='Time series, Mean, ± 1 STD') * hv.HLine(\n",
    "        df[label_temp].mean()) * df_std.hvplot.area(\n",
    "        y='low', y2='high', alpha=0.2)\n",
    "    pcdf = cdf.hvplot(xlim=temp_lim, ylim=[0, 1], title='', width=WIDTH).opts(\n",
    "        title='Cumulative Distrib. Func.') * hv.VLine(\n",
    "        df[label_temp].mean())\n",
    "    pkde = df.hvplot.kde(xlim=temp_lim,\n",
    "                         width=WIDTH) * hv.VLine(\n",
    "        df[label_temp].mean()).opts(title='Probability Density Func.')\n",
    "    \n",
    "    return pn.Row(pts, pcdf, pkde)"
   ]
  },
  {
   "cell_type": "code",
   "execution_count": 4,
   "id": "4028e1ca",
   "metadata": {
    "slideshow": {
     "slide_type": "subslide"
    }
   },
   "outputs": [
    {
     "ename": "NameError",
     "evalue": "name 'pn' is not defined",
     "output_type": "error",
     "traceback": [
      "\u001b[1;31m---------------------------------------------------------------------------\u001b[0m",
      "\u001b[1;31mNameError\u001b[0m                                 Traceback (most recent call last)",
      "Cell \u001b[1;32mIn[4], line 2\u001b[0m\n\u001b[0;32m      1\u001b[0m \u001b[38;5;66;03m# Show\u001b[39;00m\n\u001b[1;32m----> 2\u001b[0m \u001b[43mpn\u001b[49m\u001b[38;5;241m.\u001b[39minteract(plot_temp, region_name\u001b[38;5;241m=\u001b[39mdf_temp\u001b[38;5;241m.\u001b[39mcolumns,\n\u001b[0;32m      3\u001b[0m             year\u001b[38;5;241m=\u001b[39m\u001b[38;5;28mrange\u001b[39m(FIRST_YEAR, LAST_YEAR \u001b[38;5;241m+\u001b[39m \u001b[38;5;241m1\u001b[39m))\n",
      "\u001b[1;31mNameError\u001b[0m: name 'pn' is not defined"
     ]
    }
   ],
   "source": [
    "# Show\n",
    "pn.interact(plot_temp, region_name=df_temp.columns,\n",
    "            year=range(FIRST_YEAR, LAST_YEAR + 1))"
   ]
  },
  {
   "cell_type": "markdown",
   "id": "451b43ed",
   "metadata": {
    "slideshow": {
     "slide_type": "subslide"
    }
   },
   "source": [
    "> ***Question***\n",
    "> - Describe how the mean and the standard deviation of the time series above depend on the region and on the year.\n",
    "> - How do these dependencies show on the cumulative distribution and probability density functions?\n",
    "\n",
    "Now let's compare the target data with the input data."
   ]
  },
  {
   "cell_type": "code",
   "execution_count": 5,
   "id": "f503cb99",
   "metadata": {
    "slideshow": {
     "slide_type": "subslide"
    }
   },
   "outputs": [
    {
     "ename": "NameError",
     "evalue": "name 'data_dir' is not defined",
     "output_type": "error",
     "traceback": [
      "\u001b[1;31m---------------------------------------------------------------------------\u001b[0m",
      "\u001b[1;31mNameError\u001b[0m                                 Traceback (most recent call last)",
      "Cell \u001b[1;32mIn[5], line 3\u001b[0m\n\u001b[0;32m      1\u001b[0m \u001b[38;5;66;03m# Read hourly demand data summed over each region\u001b[39;00m\n\u001b[0;32m      2\u001b[0m filename \u001b[38;5;241m=\u001b[39m \u001b[38;5;124m'\u001b[39m\u001b[38;5;124mreseaux_energies_demand_demand.csv\u001b[39m\u001b[38;5;124m'\u001b[39m\n\u001b[1;32m----> 3\u001b[0m filepath \u001b[38;5;241m=\u001b[39m Path(\u001b[43mdata_dir\u001b[49m, filename)\n\u001b[0;32m      4\u001b[0m df_dem \u001b[38;5;241m=\u001b[39m pd\u001b[38;5;241m.\u001b[39mread_csv(filepath, \u001b[38;5;241m*\u001b[39m\u001b[38;5;241m*\u001b[39mkwargs_read_csv)\u001b[38;5;241m.\u001b[39mresample(\u001b[38;5;124m'\u001b[39m\u001b[38;5;124mD\u001b[39m\u001b[38;5;124m'\u001b[39m)\u001b[38;5;241m.\u001b[39msum()\n\u001b[0;32m      5\u001b[0m label_dem \u001b[38;5;241m=\u001b[39m \u001b[38;5;124m'\u001b[39m\u001b[38;5;124mDemand (MWh)\u001b[39m\u001b[38;5;124m'\u001b[39m\n",
      "\u001b[1;31mNameError\u001b[0m: name 'data_dir' is not defined"
     ]
    }
   ],
   "source": [
    "# Read hourly demand data summed over each region\n",
    "filename = 'reseaux_energies_demand_demand.csv'\n",
    "filepath = Path(data_dir, filename)\n",
    "df_dem = pd.read_csv(filepath, **kwargs_read_csv).resample('D').sum()\n",
    "label_dem = 'Demand (MWh)'"
   ]
  },
  {
   "cell_type": "code",
   "execution_count": 5,
   "id": "9394c735",
   "metadata": {
    "execution": {
     "iopub.execute_input": "2023-09-20T14:51:38.177258Z",
     "iopub.status.busy": "2023-09-20T14:51:38.177032Z",
     "iopub.status.idle": "2023-09-20T14:51:38.182599Z",
     "shell.execute_reply": "2023-09-20T14:51:38.181948Z",
     "shell.execute_reply.started": "2023-09-20T14:51:38.177234Z"
    },
    "slideshow": {
     "slide_type": "subslide"
    }
   },
   "outputs": [],
   "source": [
    "# Scatter plot of demand versus temperature\n",
    "def scatter_temp_dem(region_name, year):\n",
    "    df = pd.concat([df_temp[region_name], df_dem[region_name]],\n",
    "                   axis='columns', ignore_index=True).loc[str(year)]\n",
    "    df.columns = [label_temp, label_dem]\n",
    "    return df.hvplot.scatter(x=label_temp, y=label_dem, width=500,\n",
    "                             xlim=[-5, 30])\n",
    "\n",
    "\n",
    "text = pn.pane.Markdown(\"\"\"\n",
    "### Generalizing vs. Memorizing\n",
    "#### New data will differ from training data.         \n",
    "#### Plus there is *noise* from unresolved factors.      \n",
    "#### -> we want to be able to *generalize*, not just *memorize*\"\"\")"
   ]
  },
  {
   "cell_type": "code",
   "execution_count": 6,
   "id": "1a212e73",
   "metadata": {
    "execution": {
     "iopub.execute_input": "2023-09-20T14:51:38.183666Z",
     "iopub.status.busy": "2023-09-20T14:51:38.183389Z",
     "iopub.status.idle": "2023-09-20T14:51:38.364549Z",
     "shell.execute_reply": "2023-09-20T14:51:38.363891Z",
     "shell.execute_reply.started": "2023-09-20T14:51:38.183644Z"
    },
    "slideshow": {
     "slide_type": "subslide"
    }
   },
   "outputs": [
    {
     "data": {},
     "metadata": {},
     "output_type": "display_data"
    },
    {
     "data": {},
     "metadata": {},
     "output_type": "display_data"
    },
    {
     "data": {
      "application/vnd.holoviews_exec.v0+json": "",
      "text/html": [
       "<div id='1617'>\n",
       "  <div class=\"bk-root\" id=\"0fd33a9e-1628-4338-aa42-8d78092d2b05\" data-root-id=\"1617\"></div>\n",
       "</div>\n",
       "<script type=\"application/javascript\">(function(root) {\n",
       "  function embed_document(root) {\n",
       "    var docs_json = {\"03a68cc9-1112-4700-b5d8-53ee0c348dcb\":{\"defs\":[{\"extends\":null,\"module\":null,\"name\":\"ReactiveHTML1\",\"overrides\":[],\"properties\":[]},{\"extends\":null,\"module\":null,\"name\":\"FlexBox1\",\"overrides\":[],\"properties\":[{\"default\":\"flex-start\",\"kind\":null,\"name\":\"align_content\"},{\"default\":\"flex-start\",\"kind\":null,\"name\":\"align_items\"},{\"default\":\"row\",\"kind\":null,\"name\":\"flex_direction\"},{\"default\":\"wrap\",\"kind\":null,\"name\":\"flex_wrap\"},{\"default\":\"flex-start\",\"kind\":null,\"name\":\"justify_content\"}]},{\"extends\":null,\"module\":null,\"name\":\"GridStack1\",\"overrides\":[],\"properties\":[{\"default\":\"warn\",\"kind\":null,\"name\":\"mode\"},{\"default\":null,\"kind\":null,\"name\":\"ncols\"},{\"default\":null,\"kind\":null,\"name\":\"nrows\"},{\"default\":true,\"kind\":null,\"name\":\"allow_resize\"},{\"default\":true,\"kind\":null,\"name\":\"allow_drag\"},{\"default\":[],\"kind\":null,\"name\":\"state\"}]},{\"extends\":null,\"module\":null,\"name\":\"click1\",\"overrides\":[],\"properties\":[{\"default\":\"\",\"kind\":null,\"name\":\"terminal_output\"},{\"default\":\"\",\"kind\":null,\"name\":\"debug_name\"},{\"default\":0,\"kind\":null,\"name\":\"clears\"}]},{\"extends\":null,\"module\":null,\"name\":\"NotificationAreaBase1\",\"overrides\":[],\"properties\":[{\"default\":\"bottom-right\",\"kind\":null,\"name\":\"position\"},{\"default\":0,\"kind\":null,\"name\":\"_clear\"}]},{\"extends\":null,\"module\":null,\"name\":\"NotificationArea1\",\"overrides\":[],\"properties\":[{\"default\":[],\"kind\":null,\"name\":\"notifications\"},{\"default\":\"bottom-right\",\"kind\":null,\"name\":\"position\"},{\"default\":0,\"kind\":null,\"name\":\"_clear\"},{\"default\":[{\"background\":\"#ffc107\",\"icon\":{\"className\":\"fas fa-exclamation-triangle\",\"color\":\"white\",\"tagName\":\"i\"},\"type\":\"warning\"},{\"background\":\"#007bff\",\"icon\":{\"className\":\"fas fa-info-circle\",\"color\":\"white\",\"tagName\":\"i\"},\"type\":\"info\"}],\"kind\":null,\"name\":\"types\"}]},{\"extends\":null,\"module\":null,\"name\":\"Notification\",\"overrides\":[],\"properties\":[{\"default\":null,\"kind\":null,\"name\":\"background\"},{\"default\":3000,\"kind\":null,\"name\":\"duration\"},{\"default\":null,\"kind\":null,\"name\":\"icon\"},{\"default\":\"\",\"kind\":null,\"name\":\"message\"},{\"default\":null,\"kind\":null,\"name\":\"notification_type\"},{\"default\":false,\"kind\":null,\"name\":\"_destroyed\"}]},{\"extends\":null,\"module\":null,\"name\":\"TemplateActions1\",\"overrides\":[],\"properties\":[{\"default\":0,\"kind\":null,\"name\":\"open_modal\"},{\"default\":0,\"kind\":null,\"name\":\"close_modal\"}]},{\"extends\":null,\"module\":null,\"name\":\"MaterialTemplateActions1\",\"overrides\":[],\"properties\":[{\"default\":0,\"kind\":null,\"name\":\"open_modal\"},{\"default\":0,\"kind\":null,\"name\":\"close_modal\"}]}],\"roots\":{\"references\":[{\"attributes\":{\"margin\":[5,5,5,5],\"min_width\":20,\"name\":\"Spacer01345\",\"width\":20},\"id\":\"1683\",\"type\":\"Spacer\"},{\"attributes\":{},\"id\":\"1646\",\"type\":\"PanTool\"},{\"attributes\":{\"children\":[{\"id\":\"1619\"},{\"id\":\"1624\"}],\"margin\":[0,0,0,0],\"name\":\"Column01269\",\"sizing_mode\":\"fixed\"},\"id\":\"1618\",\"type\":\"Column\"},{\"attributes\":{\"axis_label\":\"Demand (MWh)\",\"coordinates\":null,\"formatter\":{\"id\":\"1671\"},\"group\":null,\"major_label_policy\":{\"id\":\"1672\"},\"ticker\":{\"id\":\"1642\"}},\"id\":\"1641\",\"type\":\"LinearAxis\"},{\"attributes\":{},\"id\":\"1659\",\"type\":\"Selection\"},{\"attributes\":{\"axis\":{\"id\":\"1641\"},\"coordinates\":null,\"dimension\":1,\"grid_line_color\":null,\"group\":null,\"ticker\":null},\"id\":\"1644\",\"type\":\"Grid\"},{\"attributes\":{\"children\":[{\"id\":\"1618\"},{\"id\":\"1683\"},{\"id\":\"1684\"}],\"margin\":[0,0,0,0],\"name\":\"Row01346\"},\"id\":\"1617\",\"type\":\"Row\"},{\"attributes\":{},\"id\":\"1642\",\"type\":\"BasicTicker\"},{\"attributes\":{\"angle\":{\"value\":0.0},\"fill_alpha\":{\"value\":1.0},\"fill_color\":{\"value\":\"#30a2da\"},\"hatch_alpha\":{\"value\":1.0},\"hatch_color\":{\"value\":\"#30a2da\"},\"hatch_scale\":{\"value\":12.0},\"hatch_weight\":{\"value\":1.0},\"line_alpha\":{\"value\":1.0},\"line_cap\":{\"value\":\"butt\"},\"line_color\":{\"value\":\"#30a2da\"},\"line_dash\":{\"value\":[]},\"line_dash_offset\":{\"value\":0},\"line_join\":{\"value\":\"bevel\"},\"line_width\":{\"value\":1},\"marker\":{\"value\":\"circle\"},\"size\":{\"value\":5.477225575051661},\"x\":{\"field\":\"Temperature (\\u00b0C)\"},\"y\":{\"field\":\"Demand (MWh)\"}},\"id\":\"1666\",\"type\":\"Scatter\"},{\"attributes\":{},\"id\":\"1647\",\"type\":\"WheelZoomTool\"},{\"attributes\":{},\"id\":\"1635\",\"type\":\"LinearScale\"},{\"attributes\":{\"fill_color\":{\"value\":\"#30a2da\"},\"hatch_color\":{\"value\":\"#30a2da\"},\"line_color\":{\"value\":\"#30a2da\"},\"size\":{\"value\":5.477225575051661},\"x\":{\"field\":\"Temperature (\\u00b0C)\"},\"y\":{\"field\":\"Demand (MWh)\"}},\"id\":\"1661\",\"type\":\"Scatter\"},{\"attributes\":{\"children\":[{\"id\":\"1620\"},{\"id\":\"1621\"}],\"margin\":[0,0,0,0],\"name\":\"Column01344\"},\"id\":\"1619\",\"type\":\"Column\"},{\"attributes\":{},\"id\":\"1645\",\"type\":\"SaveTool\"},{\"attributes\":{},\"id\":\"1680\",\"type\":\"UnionRenderers\"},{\"attributes\":{\"fill_alpha\":{\"value\":0.1},\"fill_color\":{\"value\":\"#30a2da\"},\"hatch_alpha\":{\"value\":0.1},\"hatch_color\":{\"value\":\"#30a2da\"},\"line_alpha\":{\"value\":0.1},\"line_color\":{\"value\":\"#30a2da\"},\"size\":{\"value\":5.477225575051661},\"x\":{\"field\":\"Temperature (\\u00b0C)\"},\"y\":{\"field\":\"Demand (MWh)\"}},\"id\":\"1662\",\"type\":\"Scatter\"},{\"attributes\":{\"margin\":[5,0,0,10],\"name\":\"\",\"style\":{\"white-space\":\"nowrap\"},\"text\":\"year: <b>2014</b>\"},\"id\":\"1622\",\"type\":\"Div\"},{\"attributes\":{\"overlay\":{\"id\":\"1650\"}},\"id\":\"1648\",\"type\":\"BoxZoomTool\"},{\"attributes\":{},\"id\":\"1649\",\"type\":\"ResetTool\"},{\"attributes\":{\"bottom_units\":\"screen\",\"coordinates\":null,\"fill_alpha\":0.5,\"fill_color\":\"lightgrey\",\"group\":null,\"left_units\":\"screen\",\"level\":\"overlay\",\"line_alpha\":1.0,\"line_color\":\"black\",\"line_dash\":[4,4],\"line_width\":2,\"right_units\":\"screen\",\"syncable\":false,\"top_units\":\"screen\"},\"id\":\"1650\",\"type\":\"BoxAnnotation\"},{\"attributes\":{\"margin\":[5,10,5,10],\"options\":[\"Auvergne-Rh\\u00f4ne-Alpes\",\"Bourgogne-Franche-Comt\\u00e9\",\"Bretagne\",\"Centre-Val de Loire\",\"Grand Est\",\"Hauts-de-France\",\"\\u00cele-de-France\",\"Normandie\",\"Nouvelle-Aquitaine\",\"Occitanie\",\"Pays de la Loire\",\"Provence-Alpes-C\\u00f4te d'Azur\"],\"title\":\"region_name\",\"value\":\"Auvergne-Rh\\u00f4ne-Alpes\"},\"id\":\"1620\",\"type\":\"panel.models.widgets.CustomSelect\"},{\"attributes\":{},\"id\":\"1669\",\"type\":\"AllLabels\"},{\"attributes\":{\"tools\":[{\"id\":\"1627\"},{\"id\":\"1645\"},{\"id\":\"1646\"},{\"id\":\"1647\"},{\"id\":\"1648\"},{\"id\":\"1649\"}]},\"id\":\"1651\",\"type\":\"Toolbar\"},{\"attributes\":{\"end\":30,\"reset_end\":30,\"reset_start\":-5,\"start\":-5,\"tags\":[[[\"Temperature (\\u00b0C)\",\"Temperature (\\u00b0C)\",null]]]},\"id\":\"1625\",\"type\":\"Range1d\"},{\"attributes\":{},\"id\":\"1668\",\"type\":\"BasicTickFormatter\"},{\"attributes\":{\"children\":[{\"id\":\"1622\"},{\"id\":\"1623\"}],\"margin\":[0,0,0,0],\"name\":\"Column01278\"},\"id\":\"1621\",\"type\":\"Column\"},{\"attributes\":{},\"id\":\"1633\",\"type\":\"LinearScale\"},{\"attributes\":{\"args\":{\"bidirectional\":false,\"properties\":{},\"source\":{\"id\":\"1623\"},\"target\":{\"id\":\"1622\"}},\"code\":\"try { \\n    var labels = ['year: <b>2014</b>', 'year: <b>2015</b>', 'year: <b>2016</b>', 'year: <b>2017</b>', 'year: <b>2018</b>', 'year: <b>2019</b>', 'year: <b>2020</b>', 'year: <b>2021</b>']\\n    target.text = labels[source.value]\\n     } catch(err) { console.log(err) }\",\"tags\":[[140360892721568,[null,\"value\"],[null,null]]]},\"id\":\"1695\",\"type\":\"CustomJS\"},{\"attributes\":{},\"id\":\"1671\",\"type\":\"BasicTickFormatter\"},{\"attributes\":{\"end\":7,\"js_property_callbacks\":{\"change:value\":[{\"id\":\"1695\"}]},\"margin\":[0,10,5,10],\"show_value\":false,\"start\":0,\"tooltips\":false,\"value\":0},\"id\":\"1623\",\"type\":\"Slider\"},{\"attributes\":{\"fill_alpha\":{\"value\":0.2},\"fill_color\":{\"value\":\"#30a2da\"},\"hatch_alpha\":{\"value\":0.2},\"hatch_color\":{\"value\":\"#30a2da\"},\"line_alpha\":{\"value\":0.2},\"line_color\":{\"value\":\"#30a2da\"},\"size\":{\"value\":5.477225575051661},\"x\":{\"field\":\"Temperature (\\u00b0C)\"},\"y\":{\"field\":\"Demand (MWh)\"}},\"id\":\"1663\",\"type\":\"Scatter\"},{\"attributes\":{\"css_classes\":[\"markdown\"],\"margin\":[5,5,5,5],\"name\":\"Markdown01266\",\"text\":\"&lt;h3&gt;Generalizing vs. Memorizing&lt;/h3&gt;\\n&lt;h4&gt;New data will differ from training data.&lt;/h4&gt;\\n&lt;h4&gt;Plus there is &lt;em&gt;noise&lt;/em&gt; from unresolved factors.&lt;/h4&gt;\\n&lt;h4&gt;-&amp;gt; we want to be able to &lt;em&gt;generalize&lt;/em&gt;, not just &lt;em&gt;memorize&lt;/em&gt;&lt;/h4&gt;\"},\"id\":\"1684\",\"type\":\"panel.models.markup.HTML\"},{\"attributes\":{\"children\":[{\"id\":\"1628\"}],\"margin\":[0,0,0,0],\"name\":\"Row01343\",\"sizing_mode\":\"fixed\"},\"id\":\"1624\",\"type\":\"Row\"},{\"attributes\":{\"data\":{\"Demand (MWh)\":[366369,399410,411039,382822,378138,432094,418502,407413,415163,408709,380583,374091,443888,455426,467283,452704,436534,394575,377620,445742,463374,466629,458212,467919,437629,405439,452345,470357,475847,475582,463918,426616,402384,445592,449725,459479,453635,443811,413347,387163,439380,446485,438172,440865,440560,381109,381955,432697,441439,435892,422505,423888,392908,361272,413949,426619,437066,451522,452180,407730,378324,433908,445813,437900,434506,420296,366888,338694,386901,399696,397422,391919,377313,348621,322482,367349,369298,370854,370933,359343,345446,352053,405440,414785,408730,404207,391224,342476,328093,360606,366762,363588,366696,360675,323033,302014,345266,353596,359319,354806,342712,300752,283551,339933,354772,362994,359852,365799,332982,316214,313729,356463,350627,341499,339870,301099,292048,346303,347942,346807,284342,315982,308971,292784,330310,333582,331579,283186,292566,273650,265288,329933,350671,353623,353956,345976,293865,270586,322806,329313,329841,328852,322150,281556,265784,324330,339623,330455,277868,291041,272113,259166,314801,323078,329876,325138,320255,279160,258650,273808,328044,330689,332294,325601,277588,257381,311823,321432,323321,322567,320303,279395,262894,320346,327334,327259,328861,323139,281717,262093,313999,325102,327577,328152,323364,279122,264389,317551,325457,332071,337321,329184,284736,265827,269070,320672,329852,334939,333570,288028,264782,316789,324874,326894,328558,318319,276707,258694,304446,311663,311884,308149,297391,260726,244927,277604,282251,280824,283052,279268,253760,241056,265217,267960,269798,268440,248432,249325,240103,274308,282154,283227,284609,285345,261200,250117,300843,315596,314642,317036,314116,274561,259493,312407,323059,324223,325799,320804,279764,264495,322083,327299,330604,328053,319664,280837,265797,323321,333123,334555,332293,326801,281347,264349,316783,325668,334029,334041,326381,284934,268102,324119,331639,332940,328738,322206,282138,270802,327197,337467,338305,338169,333105,288169,277950,327017,333919,333062,340268,328042,286862,268176,320987,332925,348260,360771,358193,312445,285364,351360,358664,357948,362403,355496,309316,300801,356362,374595,395659,400737,405228,356872,343394,361950,339884,390590,398287,396425,358289,343807,405092,420140,423607,420229,399052,353649,329803,375933,389530,392266,387596,385396,362482,355120,430402,437055,444157,435273,431162,415543,407670,441143,465419,476922,455412,460199,400219,375770,401632,416784,452100,436826,412355,378698,387659,439956,439726,416522,375451,412845,424233,435985,484081,482063,465372],\"Demand_left_parenthesis_MWh_right_parenthesis\":[366369,399410,411039,382822,378138,432094,418502,407413,415163,408709,380583,374091,443888,455426,467283,452704,436534,394575,377620,445742,463374,466629,458212,467919,437629,405439,452345,470357,475847,475582,463918,426616,402384,445592,449725,459479,453635,443811,413347,387163,439380,446485,438172,440865,440560,381109,381955,432697,441439,435892,422505,423888,392908,361272,413949,426619,437066,451522,452180,407730,378324,433908,445813,437900,434506,420296,366888,338694,386901,399696,397422,391919,377313,348621,322482,367349,369298,370854,370933,359343,345446,352053,405440,414785,408730,404207,391224,342476,328093,360606,366762,363588,366696,360675,323033,302014,345266,353596,359319,354806,342712,300752,283551,339933,354772,362994,359852,365799,332982,316214,313729,356463,350627,341499,339870,301099,292048,346303,347942,346807,284342,315982,308971,292784,330310,333582,331579,283186,292566,273650,265288,329933,350671,353623,353956,345976,293865,270586,322806,329313,329841,328852,322150,281556,265784,324330,339623,330455,277868,291041,272113,259166,314801,323078,329876,325138,320255,279160,258650,273808,328044,330689,332294,325601,277588,257381,311823,321432,323321,322567,320303,279395,262894,320346,327334,327259,328861,323139,281717,262093,313999,325102,327577,328152,323364,279122,264389,317551,325457,332071,337321,329184,284736,265827,269070,320672,329852,334939,333570,288028,264782,316789,324874,326894,328558,318319,276707,258694,304446,311663,311884,308149,297391,260726,244927,277604,282251,280824,283052,279268,253760,241056,265217,267960,269798,268440,248432,249325,240103,274308,282154,283227,284609,285345,261200,250117,300843,315596,314642,317036,314116,274561,259493,312407,323059,324223,325799,320804,279764,264495,322083,327299,330604,328053,319664,280837,265797,323321,333123,334555,332293,326801,281347,264349,316783,325668,334029,334041,326381,284934,268102,324119,331639,332940,328738,322206,282138,270802,327197,337467,338305,338169,333105,288169,277950,327017,333919,333062,340268,328042,286862,268176,320987,332925,348260,360771,358193,312445,285364,351360,358664,357948,362403,355496,309316,300801,356362,374595,395659,400737,405228,356872,343394,361950,339884,390590,398287,396425,358289,343807,405092,420140,423607,420229,399052,353649,329803,375933,389530,392266,387596,385396,362482,355120,430402,437055,444157,435273,431162,415543,407670,441143,465419,476922,455412,460199,400219,375770,401632,416784,452100,436826,412355,378698,387659,439956,439726,416522,375451,412845,424233,435985,484081,482063,465372],\"Temperature (\\u00b0C)\":{\"__ndarray__\":\"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\",\"dtype\":\"float64\",\"order\":\"little\",\"shape\":[365]},\"Temperature_left_parenthesis_degree_C_right_parenthesis\":{\"__ndarray__\":\"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\",\"dtype\":\"float64\",\"order\":\"little\",\"shape\":[365]}},\"selected\":{\"id\":\"1659\"},\"selection_policy\":{\"id\":\"1680\"}},\"id\":\"1658\",\"type\":\"ColumnDataSource\"},{\"attributes\":{\"source\":{\"id\":\"1658\"}},\"id\":\"1665\",\"type\":\"CDSView\"},{\"attributes\":{\"callback\":null,\"renderers\":[{\"id\":\"1664\"}],\"tags\":[\"hv_created\"],\"tooltips\":[[\"Temperature (\\u00b0C)\",\"@{Temperature_left_parenthesis_degree_C_right_parenthesis}\"],[\"Demand (MWh)\",\"@{Demand_left_parenthesis_MWh_right_parenthesis}\"]]},\"id\":\"1627\",\"type\":\"HoverTool\"},{\"attributes\":{\"client_comm_id\":\"ebd19824844847438555dd067356ae9d\",\"comm_id\":\"7b77c9770e004ad9a008cb9c7314187c\",\"plot_id\":\"1617\"},\"id\":\"1716\",\"type\":\"panel.models.comm_manager.CommManager\"},{\"attributes\":{\"end\":508478.8,\"reset_end\":508478.8,\"reset_start\":215705.2,\"start\":215705.2,\"tags\":[[[\"Demand (MWh)\",\"Demand (MWh)\",null]]]},\"id\":\"1626\",\"type\":\"Range1d\"},{\"attributes\":{\"coordinates\":null,\"data_source\":{\"id\":\"1658\"},\"glyph\":{\"id\":\"1661\"},\"group\":null,\"hover_glyph\":null,\"muted_glyph\":{\"id\":\"1663\"},\"nonselection_glyph\":{\"id\":\"1662\"},\"selection_glyph\":{\"id\":\"1666\"},\"view\":{\"id\":\"1665\"}},\"id\":\"1664\",\"type\":\"GlyphRenderer\"},{\"attributes\":{\"coordinates\":null,\"group\":null,\"text_color\":\"black\",\"text_font_size\":\"12pt\"},\"id\":\"1629\",\"type\":\"Title\"},{\"attributes\":{\"below\":[{\"id\":\"1637\"}],\"center\":[{\"id\":\"1640\"},{\"id\":\"1644\"}],\"height\":300,\"left\":[{\"id\":\"1641\"}],\"margin\":[5,5,5,5],\"min_border_bottom\":10,\"min_border_left\":10,\"min_border_right\":10,\"min_border_top\":10,\"name\":\"interactive01268\",\"renderers\":[{\"id\":\"1664\"}],\"sizing_mode\":\"fixed\",\"title\":{\"id\":\"1629\"},\"toolbar\":{\"id\":\"1651\"},\"width\":500,\"x_range\":{\"id\":\"1625\"},\"x_scale\":{\"id\":\"1633\"},\"y_range\":{\"id\":\"1626\"},\"y_scale\":{\"id\":\"1635\"}},\"id\":\"1628\",\"subtype\":\"Figure\",\"type\":\"Plot\"},{\"attributes\":{\"axis_label\":\"Temperature (\\u00b0C)\",\"coordinates\":null,\"formatter\":{\"id\":\"1668\"},\"group\":null,\"major_label_policy\":{\"id\":\"1669\"},\"ticker\":{\"id\":\"1638\"}},\"id\":\"1637\",\"type\":\"LinearAxis\"},{\"attributes\":{},\"id\":\"1638\",\"type\":\"BasicTicker\"},{\"attributes\":{},\"id\":\"1672\",\"type\":\"AllLabels\"},{\"attributes\":{\"axis\":{\"id\":\"1637\"},\"coordinates\":null,\"grid_line_color\":null,\"group\":null,\"ticker\":null},\"id\":\"1640\",\"type\":\"Grid\"}],\"root_ids\":[\"1617\",\"1716\"]},\"title\":\"Bokeh Application\",\"version\":\"2.4.3\"}};\n",
       "    var render_items = [{\"docid\":\"03a68cc9-1112-4700-b5d8-53ee0c348dcb\",\"root_ids\":[\"1617\"],\"roots\":{\"1617\":\"0fd33a9e-1628-4338-aa42-8d78092d2b05\"}}];\n",
       "    root.Bokeh.embed.embed_items_notebook(docs_json, render_items);\n",
       "    for (const render_item of render_items) {\n",
       "      for (const root_id of render_item.root_ids) {\n",
       "\tconst id_el = document.getElementById(root_id)\n",
       "\tif (id_el.children.length && (id_el.children[0].className === 'bk-root')) {\n",
       "\t  const root_el = id_el.children[0]\n",
       "\t  root_el.id = root_el.id + '-rendered'\n",
       "\t}\n",
       "      }\n",
       "    }\n",
       "  }\n",
       "  if (root.Bokeh !== undefined && root.Bokeh.Panel !== undefined) {\n",
       "    embed_document(root);\n",
       "  } else {\n",
       "    var attempts = 0;\n",
       "    var timer = setInterval(function(root) {\n",
       "      if (root.Bokeh !== undefined && root.Bokeh.Panel !== undefined) {\n",
       "        clearInterval(timer);\n",
       "        embed_document(root);\n",
       "      } else if (document.readyState == \"complete\") {\n",
       "        attempts++;\n",
       "        if (attempts > 200) {\n",
       "          clearInterval(timer);\n",
       "          console.log(\"Bokeh: ERROR: Unable to run BokehJS code because BokehJS library is missing\");\n",
       "        }\n",
       "      }\n",
       "    }, 25, root)\n",
       "  }\n",
       "})(window);</script>"
      ],
      "text/plain": [
       "Row\n",
       "    [0] Column(sizing_mode='fixed')\n",
       "        [0] Column\n",
       "            [0] Select(name='region_name', options=['Auvergne-Rhône-Alpes', ...], value='Auvergne-Rhône-Alpes')\n",
       "            [1] DiscreteSlider(formatter='%d', name='year', options=[2014, 2015, 2016, ...], value=2014)\n",
       "        [1] Row(sizing_mode='fixed')\n",
       "            [0] HoloViews(Scatter, height=300, name='interactive01268', sizing_mode='fixed', width=500)\n",
       "    [1] Spacer(width=20)\n",
       "    [2] Markdown(str)"
      ]
     },
     "execution_count": 6,
     "metadata": {
      "application/vnd.holoviews_exec.v0+json": {
       "id": "1617"
      }
     },
     "output_type": "execute_result"
    }
   ],
   "source": [
    "# Show\n",
    "pn.Row(pn.interact(scatter_temp_dem, region_name=df_dem.columns,\n",
    "                   year=range(FIRST_YEAR, LAST_YEAR + 1)),\n",
    "       pn.Spacer(width=20), text)"
   ]
  },
  {
   "cell_type": "markdown",
   "id": "2b783ee9",
   "metadata": {
    "slideshow": {
     "slide_type": "slide"
    }
   },
   "source": [
    "## Supervised Learning Problem Definition\n",
    "\n",
    "Given the output $Y$,\n",
    "\n",
    "- define features $\\boldsymbol{X} = (X_1, \\ldots, X_p)$ based on (transformed) raw inputs\n",
    "- define model by a function $f: \\boldsymbol{X} \\mapsto f(\\boldsymbol{X})$\n",
    "- define *loss function* $L(Y, f(\\boldsymbol{X}))$\n",
    "- choose a training set $(\\boldsymbol{x}_i, y_i), i = 1, \\ldots, N$"
   ]
  },
  {
   "cell_type": "markdown",
   "id": "578435ca",
   "metadata": {
    "slideshow": {
     "slide_type": "fragment"
    }
   },
   "source": [
    "Example of model (linear): $f_{\\boldsymbol{\\beta}}(\\boldsymbol{X}) = \\beta_0 + \\sum_{j = 1}^p X_j \\beta_j$\n",
    "\n",
    "Example of loss (squared error): $L(Y, f(\\boldsymbol{X})) = \\left(Y - f(\\boldsymbol{X})\\right)^2$"
   ]
  },
  {
   "cell_type": "markdown",
   "id": "7a167c4e",
   "metadata": {
    "slideshow": {
     "slide_type": "subslide"
    }
   },
   "source": [
    "<div class=\"alert alert-block alert-warning\">\n",
    "    <b>Assumption</b>\n",
    "    \n",
    "All random variables and random vectors have finite variance and have densities (they are absolutely continuous with respect to the Lebesgue measure).\n",
    "</div>"
   ]
  },
  {
   "cell_type": "markdown",
   "id": "fb6bba45",
   "metadata": {
    "slideshow": {
     "slide_type": "slide"
    }
   },
   "source": [
    "<hr>\n",
    "\n",
    "**Expected Prediction Error**\n",
    "<br>\n",
    "For some model function $f$:\n",
    "\n",
    "\\begin{equation}\n",
    "\\mathrm{EPE}(f) = \\mathbb{E}(L(Y, f(\\boldsymbol{X})))\n",
    "= \\int L(y, f(\\boldsymbol{x})) \\rho_{\\boldsymbol{X}, Y}(\\boldsymbol{x}, y) d\\boldsymbol{x} dy,\n",
    "\\end{equation}\n",
    "\n",
    "where $\\rho_{\\boldsymbol{X}, Y}$ is the joint probability density of $\\boldsymbol{X}$ and $Y$.\n",
    "<hr>\n",
    "\n",
    "<hr>\n",
    "\n",
    "**Supervised Learning Objective (Concrete)**\n",
    "<br>\n",
    "Find $\\hat{f}$ over all possible $f$ such that the EPE is minimized.\n",
    "\n",
    "<hr>"
   ]
  },
  {
   "cell_type": "markdown",
   "id": "ee3d5baf",
   "metadata": {
    "slideshow": {
     "slide_type": "subslide"
    }
   },
   "source": [
    "#### Estimating the EPE\n",
    "\n",
    "If the law of large numbers applies and for a fixed number $N$ of training data and an increasing number $N' - N$ of new (test) data,\n",
    "\n",
    "\\begin{equation}\n",
    "    \\frac{1}{N'} \\sum_{i = 1}^{N'} L(y_i, f(\\boldsymbol{x}_i)) \\underset{N' \\to \\infty}{\\to} \\mathrm{EPE}(f).\n",
    "\\end{equation}"
   ]
  },
  {
   "cell_type": "markdown",
   "id": "e96217dc",
   "metadata": {
    "slideshow": {
     "slide_type": "subslide"
    }
   },
   "source": [
    "From the law of total expectation, we have that\n",
    "\n",
    "\\begin{align}\n",
    "\\mathrm{EPE}(f)\n",
    "&= \\mathbb{E}(\\mathbb{E}[L(Y, f(X)) | X])\\\\\n",
    "&= \\int L(y, f(x)) \\rho_{Y | X = x}(y) \\rho_X(x)dy dx,\n",
    "\\end{align}\n",
    "\n",
    "where $\\rho_X$ is the probability density of $X$ and $\\rho_{Y | X}$ is the conditional probability density of $Y$ knowing $X$."
   ]
  },
  {
   "cell_type": "markdown",
   "id": "c83dbbb3",
   "metadata": {
    "slideshow": {
     "slide_type": "fragment"
    }
   },
   "source": [
    "The EPE can thus be interpreted as averaging over the inputs the prediction error for any input and can be minimized pointwise:\n",
    "\n",
    "\\begin{equation}\n",
    "f(x) = \\mathrm{argmin}_c \\mathbb{E}\\left[L(Y, c) | X = x\\right].\n",
    "\\end{equation}"
   ]
  },
  {
   "cell_type": "markdown",
   "id": "848dd002",
   "metadata": {
    "slideshow": {
     "slide_type": "subslide"
    }
   },
   "source": [
    "<div class=\"alert alert-block alert-warning\">    \n",
    "    <b>Remark</b>\n",
    "    \n",
    "    \n",
    "Here, $f$ is the best possible model among all possible functions of $x$.\n",
    "\n",
    "This is a theoretical notion.\n",
    "    \n",
    "In practice, we look for an $f$ in a set of models which is smaller than the set of all possible functions of $x$ (e.g. a linear model).\n",
    "    \n",
    "In that case, the model must be trained over all points in a relatively large sample so that the minimization cannot in general be done pointwise. \n",
    "</div>"
   ]
  },
  {
   "cell_type": "markdown",
   "id": "941854e3",
   "metadata": {
    "slideshow": {
     "slide_type": "subslide"
    }
   },
   "source": [
    "## The Case of Squared Error Loss\n",
    "\n",
    "The EPE using the squared error loss is\n",
    "\n",
    "\\begin{equation}\n",
    "\\mathrm{EPE}(f) = \\mathbb{E}((Y - f(X))^2).\n",
    "\\end{equation}\n",
    "\n",
    "Then\n",
    "\\begin{equation}\n",
    "f(x) = \\underset{c}{\\mathrm{argmin}} \\ \\mathbb{E}\\left[(Y - c)^2 | X = x\\right].\n",
    "\\end{equation}"
   ]
  },
  {
   "cell_type": "markdown",
   "id": "cb011b85",
   "metadata": {
    "slideshow": {
     "slide_type": "fragment"
    }
   },
   "source": [
    "Since the expectation is the value that minimizes the expectation of the squared deviations (see [Appendix: Elements of Probability Theory](appendix_elements_of_probability_theory.ipynb)), the optimal solution is \n",
    "\n",
    "\\begin{equation}\n",
    "f(x) = \\mathbb{E}(Y | X = x)\n",
    "\\end{equation}"
   ]
  },
  {
   "cell_type": "markdown",
   "id": "15247080",
   "metadata": {
    "slideshow": {
     "slide_type": "subslide"
    }
   },
   "source": [
    "In other words:\n",
    "\n",
    "<div class=\"alert alert-block alert-info\">\n",
    "    <b>Theorem</b>\n",
    "    \n",
    "The best prediction of the output for any input is the conditional expectation, when best is measured by the average squared error and the optimum is looked for over all possible functions of $x$.\n",
    "</div>"
   ]
  },
  {
   "cell_type": "markdown",
   "id": "da2e439a",
   "metadata": {
    "slideshow": {
     "slide_type": "fragment"
    }
   },
   "source": [
    "> ***Question (optional)***\n",
    "> - What is the statistic giving the solution minimizing the EPE if we use the absolute error loss $|Y - f(X)|$ instead of the squared error loss?"
   ]
  },
  {
   "cell_type": "markdown",
   "id": "7005fab6",
   "metadata": {
    "slideshow": {
     "slide_type": "slide"
    }
   },
   "source": [
    "## References\n",
    "\n",
    "- [James, G., Witten, D., Hastie, T., Tibshirani, R., n.d. *An Introduction to Statistical Learning*, 2st ed. Springer, New York, NY.](https://www.statlearning.com/)\n",
    "- Chap. 2, 3 and 7 in [Hastie, T., Tibshirani, R., Friedman, J., 2009. *The Elements of Statistical Learning*, 2nd ed. Springer, New York.](https://doi.org/10.1007/978-0-387-84858-7)\n",
    "- Chap. 5 and 7 in [Wilks, D.S., 2019. *Statistical Methods in the Atmospheric Sciences*, 4th ed. Elsevier, Amsterdam.](https://doi.org/10.1016/C2017-0-03921-6)"
   ]
  },
  {
   "cell_type": "markdown",
   "id": "5e186998",
   "metadata": {
    "slideshow": {
     "slide_type": "slide"
    }
   },
   "source": [
    "***\n",
    "## Credit\n",
    "\n",
    "[//]: # \"This notebook is part of [E4C Interdisciplinary Center - Education](https://gitlab.in2p3.fr/energy4climate/public/education).\"\n",
    "Contributors include Bruno Deremble and Alexis Tantet.\n",
    "Several slides and images are taken from the very good [Scikit-learn course](https://inria.github.io/scikit-learn-mooc/).\n",
    "\n",
    "<br>\n",
    "\n",
    "<div style=\"display: flex; height: 70px\">\n",
    "    \n",
    "<img alt=\"Logo LMD\" src=\"images/logos/logo_lmd.jpg\" style=\"display: inline-block\"/>\n",
    "\n",
    "<img alt=\"Logo IPSL\" src=\"images/logos/logo_ipsl.png\" style=\"display: inline-block\"/>\n",
    "\n",
    "<img alt=\"Logo E4C\" src=\"images/logos/logo_e4c_final.png\" style=\"display: inline-block\"/>\n",
    "\n",
    "<img alt=\"Logo EP\" src=\"images/logos/logo_ep.png\" style=\"display: inline-block\"/>\n",
    "\n",
    "<img alt=\"Logo SU\" src=\"images/logos/logo_su.png\" style=\"display: inline-block\"/>\n",
    "\n",
    "<img alt=\"Logo ENS\" src=\"images/logos/logo_ens.jpg\" style=\"display: inline-block\"/>\n",
    "\n",
    "<img alt=\"Logo CNRS\" src=\"images/logos/logo_cnrs.png\" style=\"display: inline-block\"/>\n",
    "    \n",
    "</div>\n",
    "\n",
    "<hr>\n",
    "\n",
    "<div style=\"display: flex\">\n",
    "    <a rel=\"license\" href=\"http://creativecommons.org/licenses/by-sa/4.0/\"><img alt=\"Creative Commons License\" style=\"border-width:0; margin-right: 10px\" src=\"https://i.creativecommons.org/l/by-sa/4.0/88x31.png\" /></a>\n",
    "    <br>This work is licensed under a &nbsp; <a rel=\"license\" href=\"http://creativecommons.org/licenses/by-sa/4.0/\">Creative Commons Attribution-ShareAlike 4.0 International License</a>.\n",
    "</div>"
   ]
  }
 ],
 "metadata": {
  "celltoolbar": "Slideshow",
  "kernelspec": {
   "display_name": "Python 3 (ipykernel)",
   "language": "python",
   "name": "python3"
  },
  "language_info": {
   "codemirror_mode": {
    "name": "ipython",
    "version": 3
   },
   "file_extension": ".py",
   "mimetype": "text/x-python",
   "name": "python",
   "nbconvert_exporter": "python",
   "pygments_lexer": "ipython3",
   "version": "3.9.0"
  },
  "latex_envs": {
   "LaTeX_envs_menu_present": false,
   "autoclose": true,
   "autocomplete": false,
   "bibliofile": "biblio.bib",
   "cite_by": "apalike",
   "current_citInitial": 1,
   "eqLabelWithNumbers": true,
   "eqNumInitial": 1,
   "hotkeys": {
    "equation": "Ctrl-E",
    "itemize": "Ctrl-I"
   },
   "labels_anchors": false,
   "latex_user_defs": false,
   "report_style_numbering": false,
   "user_envs_cfg": false
  },
  "toc": {
   "base_numbering": 1,
   "nav_menu": {},
   "number_sections": true,
   "sideBar": true,
   "skip_h1_title": false,
   "title_cell": "Table of Contents",
   "title_sidebar": "Contents",
   "toc_cell": false,
   "toc_position": {},
   "toc_section_display": true,
   "toc_window_display": false
  },
  "varInspector": {
   "cols": {
    "lenName": 16,
    "lenType": 16,
    "lenVar": 40
   },
   "kernels_config": {
    "python": {
     "delete_cmd_postfix": "",
     "delete_cmd_prefix": "del ",
     "library": "var_list.py",
     "varRefreshCmd": "print(var_dic_list())"
    },
    "r": {
     "delete_cmd_postfix": ") ",
     "delete_cmd_prefix": "rm(",
     "library": "var_list.r",
     "varRefreshCmd": "cat(var_dic_list()) "
    }
   },
   "types_to_exclude": [
    "module",
    "function",
    "builtin_function_or_method",
    "instance",
    "_Feature"
   ],
   "window_display": false
  }
 },
 "nbformat": 4,
 "nbformat_minor": 5
}
