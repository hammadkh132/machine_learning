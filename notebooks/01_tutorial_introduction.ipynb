{
 "cells": [
  {
   "cell_type": "markdown",
   "id": "5eb8c31b",
   "metadata": {
    "slideshow": {
     "slide_type": "slide"
    }
   },
   "source": [
    "# Tutorial 1 : Python basics "
   ]
  },
  {
   "cell_type": "markdown",
   "id": "6027c215",
   "metadata": {},
   "source": [
    "<div class=\"alert alert-block alert-info\">\n",
    "    <b>Learning Outcomes</b>\n",
    "   \n",
    "- Data manipulation in python: numpy, matplotlib, pandas\n",
    "- First steps with scikit-learn\n",
    "\n",
    "</div>"
   ]
  },
  {
   "cell_type": "markdown",
   "id": "4b22f615",
   "metadata": {
    "slideshow": {
     "slide_type": "subslide"
    }
   },
   "source": [
    "Python is a popular computer language. We will use it along with 4 libraries: numpy for array handling, pandas for time series, scikit-learn for machine learning tools and matplotlib for plotting. There are *a lot* of resources on the web: the user manual remains the primary location where you should be looking for documentation about a specific function. https://stackoverflow.com/ is also a great source of information since many people before you have already had the same question as you. A good intro to numpy: https://sebastianraschka.com/blog/2020/numpy-intro.html\n",
    "\n",
    "Even though python is a great language, don't forget that it is an [Interpreted language](https://en.wikipedia.org/wiki/Interpreter_(computing)). That means that python can be very slow. For this reason you should \n",
    "\n",
    "- Rely on existing libraries when available\n",
    "- Write compact code\n",
    "- Avoid loops\n",
    "\n",
    "In fact, most modern libraries deffer the heavy lifting part to compiled bits of codes which typically run much faster than your own implementation.\n",
    "\n",
    "Last, don't forget to comment your codes."
   ]
  },
  {
   "cell_type": "markdown",
   "id": "d318e1af",
   "metadata": {
    "slideshow": {
     "slide_type": "subslide"
    }
   },
   "source": [
    "## Numpy for array handling\n",
    "\n",
    "Numpy is the core library when it comes to manipulating \"dense\" arrays of numbers and you should always use it instead of raw python lists. Numpy also comes with a couple of linear algebra routines to perform basic operations (matrix multiplication, linear systems, eigenvalue solver). However for large-scale application (and sparse matrices) we will use different libraries (like scipy)."
   ]
  },
  {
   "cell_type": "code",
   "execution_count": 1,
   "id": "79be0bbd",
   "metadata": {
    "slideshow": {
     "slide_type": "subslide"
    }
   },
   "outputs": [],
   "source": [
    "import numpy as np"
   ]
  },
  {
   "cell_type": "markdown",
   "id": "ec3d3360",
   "metadata": {
    "slideshow": {
     "slide_type": "subslide"
    }
   },
   "source": [
    "Vectors are first declared as a list of number and are then converted to numpy arrays. Note that python does not make the difference between row vectors and column vectors: all vectors are treated as rows."
   ]
  },
  {
   "cell_type": "code",
   "execution_count": 57,
   "id": "40d7a0d3",
   "metadata": {
    "slideshow": {
     "slide_type": "subslide"
    }
   },
   "outputs": [
    {
     "name": "stdout",
     "output_type": "stream",
     "text": [
      "[1 2 3]\n",
      "['a' 'b' 'c']\n"
     ]
    }
   ],
   "source": [
    "x = np.array([1, 2, 3])\n",
    "y = np.array([\"a\",\"b\",\"c\"])\n",
    "print(x)\n",
    "print(y)"
   ]
  },
  {
   "cell_type": "markdown",
   "id": "56cf12ce",
   "metadata": {
    "slideshow": {
     "slide_type": "subslide"
    }
   },
   "source": [
    "Matrices are declared as an array of arrays in a similar way as vectors. Note that python is case sensitive"
   ]
  },
  {
   "cell_type": "code",
   "execution_count": 3,
   "id": "358f4113",
   "metadata": {
    "slideshow": {
     "slide_type": "subslide"
    }
   },
   "outputs": [
    {
     "name": "stdout",
     "output_type": "stream",
     "text": [
      "[[1 2 3]\n",
      " [4 5 6]\n",
      " [7 8 9]]\n"
     ]
    }
   ],
   "source": [
    "A = np.array([[1, 2, 3], [4, 5, 6], [7, 8, 9]])\n",
    "print(A)"
   ]
  },
  {
   "cell_type": "markdown",
   "id": "da94a9fa",
   "metadata": {
    "slideshow": {
     "slide_type": "subslide"
    }
   },
   "source": [
    "In order to convert a row vector to a column vector, one must add a new dimension as shown below:"
   ]
  },
  {
   "cell_type": "code",
   "execution_count": 4,
   "id": "cf2a3085",
   "metadata": {
    "slideshow": {
     "slide_type": "subslide"
    }
   },
   "outputs": [
    {
     "name": "stdout",
     "output_type": "stream",
     "text": [
      "[[1]\n",
      " [2]\n",
      " [3]]\n",
      "[['a']\n",
      " ['b']\n",
      " ['c']]\n"
     ]
    }
   ],
   "source": [
    "x_col = x[:,None]\n",
    "print(x_col)\n",
    "y_col = y[:,None]\n",
    "print(y_col)"
   ]
  },
  {
   "cell_type": "markdown",
   "id": "c10566e3-0726-4aa5-b98f-1df3e2231f6e",
   "metadata": {},
   "source": [
    "You can compute the transpose of a vector with the method `.T`. However keep in mind that the transpose of a 1d vector does not really make sense *in python*. If you want to transpose a vector in python, it must have at least two dimensions.\n",
    "\n",
    "> ***Question***\n",
    "> - Try to transpose `x` and `x_col` and check their dimensions.\n",
    "- Hint: You can always check the dimensions of your array with the method `.shape`."
   ]
  },
  {
   "cell_type": "code",
   "execution_count": 5,
   "id": "a837b232",
   "metadata": {},
   "outputs": [
    {
     "name": "stdout",
     "output_type": "stream",
     "text": [
      "(3,)\n",
      "(3,)\n"
     ]
    },
    {
     "data": {
      "text/plain": [
       "array([[1, 2, 3]])"
      ]
     },
     "execution_count": 5,
     "metadata": {},
     "output_type": "execute_result"
    }
   ],
   "source": [
    "# your code here\n",
    "print(x.shape)\n",
    "print(np.shape(x)) # same thing as above\n",
    "x_col.T"
   ]
  },
  {
   "cell_type": "code",
   "execution_count": 6,
   "id": "ab7cda1f",
   "metadata": {},
   "outputs": [
    {
     "data": {
      "text/plain": [
       "array([['a', 'b', 'c']], dtype='<U1')"
      ]
     },
     "execution_count": 6,
     "metadata": {},
     "output_type": "execute_result"
    }
   ],
   "source": [
    "y_col.T"
   ]
  },
  {
   "cell_type": "code",
   "execution_count": 7,
   "id": "2432ae61-c748-4e64-b389-67d37f5cc56c",
   "metadata": {},
   "outputs": [
    {
     "data": {
      "text/plain": [
       "array([[1, 4, 7],\n",
       "       [2, 5, 8],\n",
       "       [3, 6, 9]])"
      ]
     },
     "execution_count": 7,
     "metadata": {},
     "output_type": "execute_result"
    }
   ],
   "source": [
    "A.T # 2D matrix transpose"
   ]
  },
  {
   "cell_type": "markdown",
   "id": "5ddbdcca",
   "metadata": {
    "slideshow": {
     "slide_type": "subslide"
    }
   },
   "source": [
    "Matrix multiplication can be achieved with `np.dot`, `np.matmul`, `@` or `np.einsum`.\n",
    "> ***Question***\n",
    "> - Pick the one you prefer to compute $\\mathbf A \\mathbf x$, $\\mathbf x \\mathbf x^\\top$, and $\\mathbf x^\\top \\mathbf x$.\n",
    "\n",
    "- Hint: Did I already warn you about transposing 1d vectors in python?\n",
    "- Hint2: Einsum is the most advanced function but also the most complicated. [This tutorial](https://ajcr.net/Basic-guide-to-einsum/) will tell you more about it\n",
    "- Hint3: you can add a question mark to the name of the function to access the help: `np.einsum?`\n",
    "\n",
    "With the  vectors and matrices defined above, you should get:\n",
    "$\\mathbf A \\mathbf x = [14, 32, 50]^\\top$\n",
    "\n",
    "\\begin{align}\n",
    " \\mathbf x \\mathbf x^\\top = &= \\begin{bmatrix}\n",
    "    1 & 2 & 3\\\\\n",
    "    2 & 4 & 6\\\\\n",
    "    3 & 6 &  9 \\\\\n",
    "  \\end{bmatrix}\n",
    "\\end{align}\n",
    "\n",
    "and \n",
    "$\\mathbf x^\\top \\mathbf x = 14$"
   ]
  },
  {
   "cell_type": "code",
   "execution_count": 8,
   "id": "72cb827e",
   "metadata": {},
   "outputs": [
    {
     "name": "stdout",
     "output_type": "stream",
     "text": [
      "[[1 2 3]\n",
      " [4 5 6]\n",
      " [7 8 9]] x [1 2 3]\n",
      "AX using np.dot= [14 32 50]\n",
      "AX using np.matmul= [14 32 50]\n",
      "AX using np.einsum= [14 32 50]\n",
      "AX-additional_1 using np.einsum= [ 6 30 72]\n",
      "AX-additional_2 using np.einsum= [[ 1  4  9]\n",
      " [ 4 10 18]\n",
      " [ 7 16 27]]\n"
     ]
    }
   ],
   "source": [
    "#Finding Ax\n",
    "print(A,\"x\",x)\n",
    "print(\"AX using np.dot=\", np.dot(A,x))\n",
    "print(\"AX using np.matmul=\", np.matmul(A,x))\n",
    "print(\"AX using np.einsum=\", np.einsum('ij,j->i',A,x)) #i=row, j=column, A=ij(2D), x=j(1D) we repeat j as we want to multiply with columns of x, it multiplies every row of A with every column of x\n",
    "print(\"AX-additional_1 using np.einsum=\", np.einsum('ij,i->i',A,x)) # I dont know\n",
    "print(\"AX-additional_2 using np.einsum=\", np.einsum('ij,j->ij',A,x)) # it multiplies element of each row of A with each element of x row-wise.\n",
    "# explanation of einsum https://stackoverflow.com/questions/26089893/understanding-numpys-einsum\n",
    "# einsum is a power tool for multiplication of matrices"
   ]
  },
  {
   "cell_type": "code",
   "execution_count": 9,
   "id": "08bd26b7",
   "metadata": {
    "slideshow": {
     "slide_type": "subslide"
    }
   },
   "outputs": [
    {
     "name": "stdout",
     "output_type": "stream",
     "text": [
      "[[1]\n",
      " [2]\n",
      " [3]] [[1 2 3]]\n"
     ]
    },
    {
     "data": {
      "text/plain": [
       "array([[1, 2, 3],\n",
       "       [2, 4, 6],\n",
       "       [3, 6, 9]])"
      ]
     },
     "execution_count": 9,
     "metadata": {},
     "output_type": "execute_result"
    }
   ],
   "source": [
    "# your code here\n",
    "print(x_col,x_col.T)\n",
    "np.dot(x_col,x_col.T)"
   ]
  },
  {
   "cell_type": "code",
   "execution_count": 10,
   "id": "95e64364-686c-4969-b8b6-c96e2eeb611b",
   "metadata": {},
   "outputs": [
    {
     "data": {
      "text/plain": [
       "array([[14]])"
      ]
     },
     "execution_count": 10,
     "metadata": {},
     "output_type": "execute_result"
    }
   ],
   "source": [
    "np.dot(x_col.T,x_col)"
   ]
  },
  {
   "cell_type": "markdown",
   "id": "ac280443",
   "metadata": {
    "slideshow": {
     "slide_type": "subslide"
    }
   },
   "source": [
    "You can access the first element of an array with `x[0]` and the last element with `x[-1]`. You can also select a subset using slices like `x[0:2]` (or `x[:2]`). Be careful that the last index of the slice is not part of the subset.\n",
    "\n",
    "> ***Question***\n",
    "> - Can you select the last two element of the vector $\\mathbf x$ with negative indices?"
   ]
  },
  {
   "cell_type": "code",
   "execution_count": 11,
   "id": "8c840f76",
   "metadata": {
    "slideshow": {
     "slide_type": "subslide"
    }
   },
   "outputs": [
    {
     "data": {
      "text/plain": [
       "array([[1],\n",
       "       [2],\n",
       "       [3]])"
      ]
     },
     "execution_count": 11,
     "metadata": {},
     "output_type": "execute_result"
    }
   ],
   "source": [
    "# your code here\n",
    "x_col[-3:]"
   ]
  },
  {
   "cell_type": "markdown",
   "id": "b6bc7f9d",
   "metadata": {
    "slideshow": {
     "slide_type": "subslide"
    }
   },
   "source": [
    "Numpy comes with the standard math function `np.exp`, `np.sqrt`, `np.sin`. Each of these functions applied to an array is applied element-wise. For instance `A**2` raises each element of `A` to the power of 2.\n",
    "\n",
    "> ***Question***\n",
    "> - Is `A*A` the same as `A@A`?"
   ]
  },
  {
   "cell_type": "code",
   "execution_count": 12,
   "id": "c244bf8b",
   "metadata": {},
   "outputs": [
    {
     "name": "stdout",
     "output_type": "stream",
     "text": [
      "[[1 2 3]\n",
      " [4 5 6]\n",
      " [7 8 9]]\n",
      "[[ 1  4  9]\n",
      " [16 25 36]\n",
      " [49 64 81]]\n",
      "[[ 30  36  42]\n",
      " [ 66  81  96]\n",
      " [102 126 150]]\n",
      "[[False False False]\n",
      " [False False False]\n",
      " [False False False]]\n",
      "[[ True  True  True]\n",
      " [ True  True  True]\n",
      " [ True  True  True]]\n"
     ]
    }
   ],
   "source": [
    "# your code here\n",
    "print(A)\n",
    "print(A*A) # square of all the elements\n",
    "print(A@A) # This if matrix multiplication \n",
    "print(A*A == A@A) \n",
    "print(np.dot(A,A) == A@A)"
   ]
  },
  {
   "cell_type": "markdown",
   "id": "e918eef6",
   "metadata": {
    "slideshow": {
     "slide_type": "subslide"
    }
   },
   "source": [
    "### Broadcasting\n",
    "\n",
    "In python, we can add, subtract, multiply, (etc.) arrays elementwise. In this context arrays have to be of the same size. But when we do `A+1`, we add the scalar `1` to each element of the array `A`. This type of operation is called [broadcasting](https://numpy.org/doc/stable/user/basics.broadcasting.html). \n",
    "\n",
    "> ***Question***\n",
    "> - Check the broadcasting rules (link above) and add `x` to each column of `A`\n",
    "\n",
    "You should get\n",
    "\\begin{bmatrix}\n",
    "    2 & 3 & 4\\\\\n",
    "    6 & 7 & 8\\\\\n",
    "    10 & 11 &  12 \\\\\n",
    "  \\end{bmatrix}\n",
    "\n"
   ]
  },
  {
   "cell_type": "code",
   "execution_count": 13,
   "id": "a0481349",
   "metadata": {
    "slideshow": {
     "slide_type": "subslide"
    }
   },
   "outputs": [
    {
     "name": "stdout",
     "output_type": "stream",
     "text": [
      "[[1 2 3]\n",
      " [4 5 6]\n",
      " [7 8 9]] [1 2 3]\n",
      "[[ 2  4  6]\n",
      " [ 5  7  9]\n",
      " [ 8 10 12]]\n"
     ]
    },
    {
     "data": {
      "text/plain": [
       "array([[ True,  True,  True],\n",
       "       [ True,  True,  True],\n",
       "       [ True,  True,  True]])"
      ]
     },
     "execution_count": 13,
     "metadata": {},
     "output_type": "execute_result"
    }
   ],
   "source": [
    "# your code here\n",
    "print(A,x)\n",
    "print(A+x) # it adds x row wise with each row of A\n",
    "A+x == x+A"
   ]
  },
  {
   "cell_type": "markdown",
   "id": "31042ea6",
   "metadata": {
    "slideshow": {
     "slide_type": "subslide"
    }
   },
   "source": [
    "### Generating arrays\n",
    "\n",
    "Empty arrays can be generated with `np.zeros`. We can also generate arrays with [random numbers](https://numpy.org/doc/stable/reference/random/index.html). The most useful functions are\n",
    "- [`np.random.rand`](https://numpy.org/doc/stable/reference/random/generated/numpy.random.rand.html) (uniform distribution)\n",
    "- [`np.random.randn`](https://numpy.org/doc/stable/reference/random/generated/numpy.random.randn.html) (standard normal distribution) \n",
    "- [`np.random.normal`](https://numpy.org/doc/stable/reference/random/generated/numpy.random.normal.html) (normal distribution)\n",
    "\n",
    "> ***Question***\n",
    "> - Generate 2 arrays $v_1$ and $v_2$ with $N=500$ observations following the [normal distribution](https://en.wikipedia.org/wiki/Normal_distribution) $\\mathcal N (\\mu_1,\\sigma_1^2)$ for $v_1$ and $\\mathcal N (\\mu_2,\\sigma_2^2)$ for $v_2$, with $\\mu_1 = 2$, $\\mu_2 = 1$, $\\sigma_1 = 5$, $\\sigma_2 = 1$"
   ]
  },
  {
   "cell_type": "code",
   "execution_count": 94,
   "id": "1763a979",
   "metadata": {
    "slideshow": {
     "slide_type": "subslide"
    }
   },
   "outputs": [],
   "source": [
    "mu1 = 2\n",
    "mu2 = 1\n",
    "\n",
    "sigma1 = 5 #std deviate  - (sigma1)2 = variance1(v1)\n",
    "sigma2 = 1\n",
    "\n",
    "N = 500\n",
    "\n",
    "# your code here\n",
    "# random.normal(loc=0.0, scale=1.0, size=None) Syntax\n",
    "v1 = np.random.normal(mu1, sigma1, size= N)\n",
    "v2 = np.random.normal(mu2, sigma2, size = N)"
   ]
  },
  {
   "cell_type": "markdown",
   "id": "c37deb45",
   "metadata": {},
   "source": [
    "> ***Question***\n",
    "> - Compute the mean of each array.\n",
    "> - How does it compare to $\\mu_1$ and $\\mu_2$? Can you explain?"
   ]
  },
  {
   "cell_type": "code",
   "execution_count": 95,
   "id": "19c97944",
   "metadata": {},
   "outputs": [
    {
     "name": "stdout",
     "output_type": "stream",
     "text": [
      "1.9773312504054894\n"
     ]
    },
    {
     "data": {
      "text/plain": [
       "False"
      ]
     },
     "execution_count": 95,
     "metadata": {},
     "output_type": "execute_result"
    }
   ],
   "source": [
    "# your code here\n",
    "print(v1.mean())\n",
    "v1.mean() == mu1"
   ]
  },
  {
   "cell_type": "code",
   "execution_count": 96,
   "id": "075f7dc8-75c4-4a3c-a385-e0d9b4e1d9f3",
   "metadata": {},
   "outputs": [
    {
     "name": "stdout",
     "output_type": "stream",
     "text": [
      "1.0335136701259575\n"
     ]
    },
    {
     "data": {
      "text/plain": [
       "False"
      ]
     },
     "execution_count": 96,
     "metadata": {},
     "output_type": "execute_result"
    }
   ],
   "source": [
    "print(v2.mean())\n",
    "v2.mean() == mu2"
   ]
  },
  {
   "cell_type": "markdown",
   "id": "f292b4e6",
   "metadata": {},
   "source": [
    "> ***Question***\n",
    "> - Do you think $v_1$ and $v_2$ are correlated?\n",
    "> - Can you compute the actual covariance between $v_1$ and $v_2$ with `np.cov`?\n",
    "> - Recall the definition of the covariance between two variables. [Hint](https://en.wikipedia.org/wiki/Covariance)\n",
    "> - What is the expected covariance matrix in terms of $\\sigma_1$ and $\\sigma_2$\n",
    "> - Do you recognize the array `Cv` defined below?"
   ]
  },
  {
   "attachments": {
    "71a4fd65-6059-4761-a6e4-61bea5401ecd.png": {
     "image/png": "[encoded data removed]"
    }
   },
   "cell_type": "markdown",
   "id": "849e7d4c-384c-4d18-a889-dd3a6c20b9f8",
   "metadata": {},
   "source": [
    "![image.png](attachment:71a4fd65-6059-4761-a6e4-61bea5401ecd.png)"
   ]
  },
  {
   "cell_type": "code",
   "execution_count": 25,
   "id": "08dcac5f",
   "metadata": {},
   "outputs": [
    {
     "name": "stdout",
     "output_type": "stream",
     "text": [
      "[[25  0]\n",
      " [ 0  1]]\n"
     ]
    }
   ],
   "source": [
    "# your code here\n",
    "Cv = np.array([[sigma1**2, 0], [0,sigma2**2]]) # Indirect way of creating covariance matrix\n",
    "print(Cv)"
   ]
  },
  {
   "cell_type": "code",
   "execution_count": 97,
   "id": "9f36fe4d-9cf2-41ae-bc10-88bc6ed763a9",
   "metadata": {},
   "outputs": [
    {
     "data": {
      "text/plain": [
       "array([[24.77095545, -0.11565508],\n",
       "       [-0.11565508,  1.02870208]])"
      ]
     },
     "execution_count": 97,
     "metadata": {},
     "output_type": "execute_result"
    }
   ],
   "source": [
    "np.cov(v1,v2) #direct way of creating covariance matrix \n",
    "# off diagnol elements give the correlation as it is very close to 0 therefore, correlation = covariance/variance-- therefore v1 and v2 are not correlated"
   ]
  },
  {
   "cell_type": "markdown",
   "id": "4523493c",
   "metadata": {
    "slideshow": {
     "slide_type": "subslide"
    }
   },
   "source": [
    "As you just saw, $v_1$ and $v_2$ are not correlated. Let's apply the linear transformation\n",
    "\\begin{align}\n",
    "w_1& = \\cos \\theta v_1 - \\sin \\theta v_2\\\\\n",
    "w_2& = \\sin \\theta v_1 + \\cos \\theta v_2\n",
    "\\end{align}\n",
    "That you can also write for each realization\n",
    "\\begin{equation}\n",
    "\\mathbf{w} = \\mathbf{R}\\mathbf{v}\n",
    "\\end{equation}\n",
    "with $\\mathbf R$ the rotation matrix\n",
    "\\begin{align}\n",
    " \\mathbf{R} &= \\begin{bmatrix}\n",
    "    \\cos \\theta & -\\sin \\theta \\\\\n",
    "    \\sin \\theta & \\cos \\theta\n",
    "  \\end{bmatrix}\n",
    "\\end{align}\n",
    "and\n",
    "\\begin{align}\n",
    " \\mathbf{v} &= \\begin{bmatrix}\n",
    "    v_1  \\\\\n",
    "    v_2\n",
    "  \\end{bmatrix} & \\quad & \\mathbf{w} &= \\begin{bmatrix}\n",
    "    w_1  \\\\\n",
    "    w_2\n",
    "  \\end{bmatrix}\n",
    "\\end{align}\n",
    "\n",
    "> ***Question***\n",
    "> - Create the rotation matrix `R` with $\\theta=\\pi/3$\n",
    "> - In order to compute $\\mathbf w$ it is convenient to store $\\mathbf v = [v_1, v_2]$ in a matrix\n",
    "`V = np.array([v1,v2])`. Compute `V`.\n",
    "> - Compute `W` with one matrix multiplication. \n",
    "\n",
    "\n",
    "Remarks:\n",
    "- The equations above are valid for one single observation.\n",
    "- layout for `V` and `W` is the opposite as the one we adopted in class. We will adopt this new layout just for this tutorial. Take a moment to check if each observation is stored in a row or in a column."
   ]
  },
  {
   "cell_type": "code",
   "execution_count": 103,
   "id": "4ca5ed8a",
   "metadata": {
    "scrolled": true
   },
   "outputs": [
    {
     "name": "stdout",
     "output_type": "stream",
     "text": [
      "[[ 6.21260340e+00  9.90339484e+00  2.26176561e+00  7.55593943e-01\n",
      "   1.15371259e+00  3.27338595e-01  7.16329843e+00  7.52366759e+00\n",
      "  -2.23029176e+00  1.39866804e+01 -1.96621170e+00  1.18543515e+00\n",
      "  -2.48291017e+00 -2.61077331e+00  1.66276464e+00  5.71946806e+00\n",
      "   5.75330658e+00  8.15507905e+00  3.46098156e+00  2.96185389e+00\n",
      "  -2.54611273e+00  7.37286629e-01  2.15163021e+00  6.55288535e+00\n",
      "   1.25847055e+01  9.58955088e+00  6.66216067e+00  5.48142399e-01\n",
      "   3.08322284e+00  2.55061076e+00  1.01867115e+01  3.93529614e+00\n",
      "   2.34620625e+00  9.92309260e+00  3.51435727e+00 -5.85968241e-01\n",
      "  -2.14369002e+00 -4.19276602e-01 -1.57194539e+00  9.61864887e-01\n",
      "   2.02447697e+00  9.82884321e-01  1.36201017e+00 -1.59897744e+00\n",
      "   1.12213236e+00  1.71970329e+00  5.52128442e+00 -1.18694043e+00\n",
      "  -1.44818585e-01 -7.63914198e-01  5.98683450e+00  8.47276764e+00\n",
      "  -4.13806278e+00  8.46219925e+00  1.46724489e+01 -5.93158998e-01\n",
      "   5.00558061e+00  3.44930353e+00 -6.10877339e-01 -2.15706400e+00\n",
      "   3.78205054e+00  6.08230442e+00  2.36994022e+00  3.88574385e+00\n",
      "  -3.47126628e+00  1.32233346e+00  5.63221270e+00  3.46084003e+00\n",
      "  -2.02216051e+00  3.25211210e+00  5.40013528e+00  2.57441522e+00\n",
      "  -5.52309144e+00  4.44978079e+00  1.38877109e+00 -3.95754015e+00\n",
      "   4.03524709e+00 -7.42515113e-01  3.77323299e+00  6.43167135e+00\n",
      "   6.12045386e+00 -7.88670702e-01  6.23650457e+00 -8.48164199e-01\n",
      "  -5.54917394e-01  1.80283376e+01  5.07602438e+00 -1.02994706e+01\n",
      "   3.90400773e+00  5.72999495e+00  3.22116065e+00 -2.23248407e+00\n",
      "  -2.33154651e+00  7.66829367e+00 -1.46723114e-01  1.00696853e+00\n",
      "   4.31509234e-01  3.68369053e+00 -6.10189504e+00  8.00199832e+00\n",
      "  -7.94797365e-01 -3.30939733e+00  2.65942598e+00  5.44210393e+00\n",
      "  -4.82671636e+00 -2.98197876e+00  7.55294662e+00  1.05051243e+01\n",
      "   6.51254114e+00 -4.73000527e-01  1.53110278e+00 -2.83664886e+00\n",
      "   3.22694753e+00 -1.24304418e-01  5.34373165e+00 -1.72787914e+00\n",
      "   2.06503758e+00  2.76645576e+00  1.00626791e+01  5.51412200e+00\n",
      "   1.08836816e+00 -5.35307926e+00  7.40423517e+00  4.82870972e+00\n",
      "   5.49394264e+00 -1.31291427e+00 -2.65079414e+00 -4.51790761e+00\n",
      "   3.82253228e+00  3.56761457e+00  1.18656035e+00  1.59520005e+00\n",
      "   5.50006490e-01  1.69858105e+00 -4.70368757e+00  2.58744464e+00\n",
      "   1.91796674e+00  2.07697264e+00 -2.47275457e+00  1.23058917e+01\n",
      "   8.79450708e+00  2.10126962e+00  7.51093334e+00  4.95617266e+00\n",
      "   9.45023070e+00  1.90373596e+00  3.77336091e+00  7.22456862e+00\n",
      "  -9.85166994e-01  4.21713483e+00  1.08036249e+01 -4.06912470e+00\n",
      "  -3.08105235e+00 -1.64498155e-01  1.72997723e+00  3.22828287e+00\n",
      "   5.36995675e+00  3.88139152e+00 -1.91816175e+00  7.18094892e+00\n",
      "   5.50138363e+00 -6.23977454e-01 -1.13098238e+00  8.64845460e-01\n",
      "  -4.85024896e-01 -6.46599958e+00  2.94413825e+00  5.94391319e+00\n",
      "  -8.15447234e+00  1.30134146e+00  3.17903252e+00 -1.28807959e+00\n",
      "   3.29853123e+00  1.15015466e+00  9.19667114e+00  4.04929255e-01\n",
      "  -1.06228414e+01  2.78106705e+00 -8.00431340e+00  9.29871206e+00\n",
      "  -1.75576475e+00  1.05408330e+01  5.63486730e+00  1.31653325e+01\n",
      "  -3.16786127e+00  7.74121846e+00  2.08445109e+00  2.84613992e+00\n",
      "  -2.40409362e+00  1.91208386e+00  9.63405662e+00  2.64894927e+00\n",
      "   1.03687597e+00  3.68067164e+00  5.46605771e+00  5.60871752e+00\n",
      "  -1.70714226e+00  4.38954312e+00  5.57405534e+00 -5.52297990e+00\n",
      "   3.32827611e+00  5.25595539e+00  2.03526834e+00 -7.15549125e+00\n",
      "   2.97939938e+00  5.50483533e+00 -1.22326480e+00  8.32161782e+00\n",
      "   3.26061362e+00 -2.87162694e+00 -1.03976909e+00  2.96353770e+00\n",
      "   2.08859013e+00  1.18632597e+01  5.72000039e+00 -2.94290269e+00\n",
      "   2.68293773e+00 -2.05469360e+00 -1.30542759e+01  2.48685353e+00\n",
      "   5.60887455e+00  8.24321688e+00 -1.41956838e+00  6.72101017e+00\n",
      "   6.16316821e+00  3.97206370e+00  1.12018925e+01 -3.11777640e+00\n",
      "  -2.27378996e-01 -1.39436165e+00 -6.68712182e+00 -5.46843849e+00\n",
      "  -2.91095659e+00  9.00763159e+00 -4.81415599e+00  6.29631483e+00\n",
      "   5.47156001e-01 -9.56846679e-02  2.37217860e-01 -5.20140919e+00\n",
      "   4.13999129e+00  4.94041744e-02 -9.63268181e-01  4.25472142e+00\n",
      "   6.78488508e+00  1.70263556e+00  4.19336612e+00  1.59754966e+01\n",
      "  -9.36310938e+00  4.91946702e+00  2.82913361e+00  6.42463453e+00\n",
      "  -5.61362893e+00  6.70651473e-01  2.39520210e+00 -5.30539894e-01\n",
      "   2.42813672e+00 -2.77981444e+00  3.79263272e-01  2.02130405e+00\n",
      "   1.02701794e+01 -7.14279247e+00  9.81219111e-01  5.77594887e+00\n",
      "   7.84827877e+00  4.74998383e+00 -1.86158941e+00  8.80855488e+00\n",
      "  -1.66336181e+00  1.51121493e+00 -2.75757434e+00  8.48210964e+00\n",
      "   6.39789525e+00  4.18358550e+00  3.67511297e+00 -6.50891110e+00\n",
      "   6.34751693e+00  7.01168357e+00 -3.46388580e-01 -5.29650370e+00\n",
      "   3.49443844e+00  5.26386829e+00  2.36226679e+00 -3.74953625e+00\n",
      "   1.49585146e+00  1.47884012e+00  5.82321668e+00  4.25472773e+00\n",
      "  -4.39811697e+00  9.11455502e+00 -2.11855675e+00  6.43652009e+00\n",
      "   3.05494773e+00  5.45550772e+00  2.43328639e+00  7.51244837e+00\n",
      "  -9.63339510e-01  1.03425721e+01  6.87055526e+00  8.00688485e-01\n",
      "  -9.96496390e+00 -3.09944147e+00  3.96222012e-01 -3.82645403e+00\n",
      "   2.58617881e+00  1.06438159e+00 -8.87789627e-01  6.95394085e+00\n",
      "   3.32937177e+00  8.93763022e+00  4.05649020e-01 -6.68485625e+00\n",
      "   1.73164703e-01  1.15192420e+01  5.71738167e+00 -5.78753636e+00\n",
      "   4.64495187e+00  6.41995539e+00  9.34766764e-01 -2.31938443e+00\n",
      "  -2.64617331e+00 -8.42647183e+00 -1.18326744e+00  7.03490919e+00\n",
      "   2.24374873e-01 -1.41889673e+00 -3.57916413e+00 -2.53376239e+00\n",
      "   7.36056462e+00 -1.09219522e+01 -8.21292051e+00  4.92282687e+00\n",
      "   4.56225890e+00  6.04150908e+00  2.64422983e+00  6.97134506e+00\n",
      "   1.09494260e+00 -4.52846204e+00  5.27323217e+00 -4.33015499e+00\n",
      "  -5.05155484e-01  6.12772073e+00  2.19867133e+00  2.72682350e+00\n",
      "   2.63136448e+00  9.53276794e+00  6.07690523e+00  1.22950341e+01\n",
      "  -2.69556984e+00  6.67459299e+00 -3.64689497e+00  4.24447590e+00\n",
      "  -1.04723542e+00 -2.53350462e+00  3.42477404e+00 -4.00537837e-01\n",
      "  -7.87893115e-01  3.05565417e+00  1.02360320e+01 -2.37237740e+00\n",
      "  -2.78598135e+00  9.93594738e-02  9.49433416e-01  5.40225349e-01\n",
      "   6.00471494e-01  6.61151481e+00 -5.17829322e-01  3.85327482e+00\n",
      "  -4.30795787e+00 -2.71138874e+00  1.23892726e+00  2.60672502e+00\n",
      "   4.09213079e+00 -4.14138992e+00  2.31985759e-01  2.67769637e+00\n",
      "   1.49294196e+01  7.53909014e+00  2.49669166e+00  3.87664916e+00\n",
      "  -2.95719271e+00  2.44925302e+00  2.56753949e+00 -2.82453415e-03\n",
      "   3.45460314e+00  4.74504701e+00  6.76454991e+00  4.96487843e+00\n",
      "   1.00469340e+01 -2.93209993e-01 -2.08095876e+00  8.48699371e+00\n",
      "  -9.91334223e-01  8.21741630e+00 -2.59652091e+00  3.96448284e+00\n",
      "  -1.63443762e+00 -6.44857159e-01  6.48562814e+00 -1.87056598e-01\n",
      "   7.49569483e+00 -6.85607112e+00 -5.17051725e+00  1.32527063e+01\n",
      "   4.33121682e+00  1.16498190e+01 -1.42180246e+00 -1.14220514e+00\n",
      "  -5.40709840e+00  5.13460154e+00 -5.89094847e+00  1.22025136e+01\n",
      "   1.05043433e-01 -7.71230045e+00 -2.28217586e+00  7.29773060e+00\n",
      "   4.69473715e+00 -1.44188010e+00 -4.50570917e-01  7.03227704e+00\n",
      "   4.85777938e+00  8.03081378e+00 -6.68036833e-01 -2.14647907e+00\n",
      "  -5.43046184e+00 -1.69550358e+00  6.23181510e+00  1.23570576e+01\n",
      "  -4.64341924e+00  2.34349716e+00  6.58389343e+00 -7.94007284e+00\n",
      "   3.22996760e+00  2.66560427e+00 -5.79429512e-01  2.64242257e+00\n",
      "  -2.51383111e+00 -2.08427643e-01 -7.47714588e-01 -5.07936999e+00\n",
      "   6.52816773e+00 -7.90022005e+00  6.64149008e+00  1.81533100e+00\n",
      "  -1.06061283e+00 -7.69890333e+00 -8.48513786e+00  7.21499962e+00\n",
      "   6.67975049e-03  1.20599754e+01  1.14553950e+01 -3.90542131e+00\n",
      "   5.29015312e+00 -4.17254781e+00  3.59598643e+00 -2.70152231e+00\n",
      "  -5.47993764e+00  3.11029690e+00 -1.34464383e+00 -1.30352544e+00\n",
      "   4.41871726e+00 -4.61133817e+00 -4.33764162e-01  2.56037381e+00\n",
      "   3.22648020e+00  6.54934191e+00 -4.07281590e+00  2.14132339e+00\n",
      "   2.54425510e+00  8.17279854e-01  5.71941699e+00  1.01855542e+01\n",
      "  -5.21309215e-01  1.29960155e+01  6.85609420e+00  4.81791256e+00\n",
      "  -4.45673900e+00  6.43935337e+00 -6.94880163e+00 -9.23359907e+00\n",
      "   2.92590776e+00 -2.18872231e+00 -1.33086015e+00 -6.11137807e-01\n",
      "   2.42957178e+00  2.84325583e-01 -6.51236816e+00  3.48427553e+00\n",
      "  -4.77546708e-01 -2.56205497e+00 -1.59009901e+00  7.72678931e+00\n",
      "   2.62108471e+00  1.10836909e+01  3.13655489e+00 -4.54630258e+00\n",
      "  -1.26969314e+00  1.74722563e+00  3.30066500e+00 -3.34907482e+00]\n",
      " [ 6.67160418e-01  3.54473351e-01  6.21868662e-01 -1.50763014e-01\n",
      "   1.00733404e+00  2.80625920e+00  1.51060913e+00  1.34863266e+00\n",
      "   3.91141944e+00  6.05665932e-01  4.82316792e-01 -9.23729087e-01\n",
      "   8.51961065e-01  1.18270239e+00  1.65366496e+00  2.28983332e+00\n",
      "   1.09454483e+00  1.59724725e+00  1.18732489e+00 -2.80818233e-01\n",
      "   1.92599304e+00  5.45003094e-02  3.73784251e-01  1.42258969e+00\n",
      "   6.20073319e-01  1.82553699e+00 -5.08418104e-01 -8.56133745e-02\n",
      "   1.40876846e+00 -3.90424302e-01  3.66002665e-01  1.04039986e+00\n",
      "   7.97880514e-01  1.37430962e+00  1.67353539e+00  8.09121318e-01\n",
      "   2.83073290e-01  2.54710783e+00  6.85156956e-01  1.23479054e+00\n",
      "   2.44365064e+00  1.49804437e-01  1.12698945e+00  2.47610788e+00\n",
      "   8.53245929e-01  5.67076378e-01  2.18039673e+00  2.36464189e+00\n",
      "   5.61896386e-01  2.99100480e-01  1.52647619e-02  1.41093502e+00\n",
      "   3.23478987e+00  1.86801928e+00  3.39440537e-01  1.08000444e+00\n",
      "  -8.21926689e-02  2.13362315e+00  6.44477062e-02  6.28926183e-01\n",
      "   1.00498025e+00  2.22689040e+00  4.91153200e-01  3.34254654e-01\n",
      "   6.23874118e-01  7.51295696e-01  2.21905205e-01  1.31160944e+00\n",
      "   2.22285522e+00  1.47070170e+00  2.31569573e+00  4.25852930e-01\n",
      "  -1.55085284e-01  1.83653244e+00  2.79876935e+00  3.92794130e-01\n",
      "   1.55070214e+00 -1.00795747e+00  2.10669830e+00 -4.41268783e-01\n",
      "   2.46352704e-01  6.96247245e-01  1.03949775e+00 -5.58473750e-01\n",
      "   4.41372185e-01 -4.80983073e-01 -4.44779774e-01  2.34771312e+00\n",
      "   3.85296949e-01  7.79236968e-01  2.04235102e+00  1.46263749e+00\n",
      "   1.97926730e+00 -6.74839645e-01 -1.10149883e-01  5.69725922e-01\n",
      "   2.99688737e-01  2.56511546e+00 -8.18488563e-01  1.85391044e+00\n",
      "   1.95816062e+00  2.60306653e-01 -2.66085271e-03  1.86800430e+00\n",
      "  -2.94041236e-01  7.00540352e-01  2.25139262e+00 -3.70722810e-01\n",
      "   2.01408593e+00  2.10795590e+00  1.20649046e+00  2.08273754e+00\n",
      "   2.34648334e+00  1.33792014e+00  1.02254082e+00  2.54429179e+00\n",
      "   9.67555483e-01  7.69972902e-01  1.36467486e+00  1.32083354e+00\n",
      "   3.02391485e-01 -4.33564063e-01  2.85137444e-01  9.05563421e-01\n",
      "   6.39976425e-01 -1.89952114e-01  2.29320065e+00  1.24063545e+00\n",
      "  -1.46330924e+00  1.93459155e+00  8.69508703e-01 -5.61453393e-01\n",
      "   3.50974822e+00  1.20555106e+00  1.48711489e+00  2.25786495e+00\n",
      "   1.70190542e+00  1.69810778e+00  1.49438167e+00  2.04824527e-01\n",
      "   1.41479348e+00  7.40759938e-01  2.11204825e+00 -1.41112062e+00\n",
      "   1.20668572e+00  2.06277910e+00  5.90687193e-02  9.89947602e-01\n",
      "   1.54712670e+00  3.10070022e+00 -5.15827844e-01  8.19460190e-01\n",
      "   9.94359968e-01 -8.02155000e-01  2.23215785e+00  1.58252822e+00\n",
      "  -8.81117849e-02  3.85618252e-01  8.59297094e-01  1.85659554e+00\n",
      "  -1.73406234e-01  2.46504178e+00  1.17608056e-01  2.53322438e+00\n",
      "   1.57533940e+00  2.12198689e+00 -5.59416831e-01  9.78151899e-02\n",
      "   8.09807122e-01 -6.90511431e-01  3.93908314e-01 -2.55276735e-01\n",
      "   1.87420790e+00  7.91314892e-01  2.45195267e-01  3.80756735e-01\n",
      "  -6.42105875e-01  4.92236935e-01  1.60722025e+00 -8.70679366e-01\n",
      "   2.68797673e+00  1.05510877e+00  1.11011326e-01  1.64648848e+00\n",
      "   2.63628910e+00  1.15823421e+00  1.92291331e+00  7.97949153e-01\n",
      "   2.73140982e+00  2.63506496e+00  3.07414962e+00  1.17886213e+00\n",
      "   2.10364315e+00  1.26038290e-01  9.37667307e-01 -2.10279227e-01\n",
      "   1.55388427e+00  5.23469358e-01 -1.21602150e+00  1.30782415e+00\n",
      "   1.01228082e+00  2.44744205e-02  1.13395925e+00  8.13739162e-01\n",
      "   1.88179720e+00  1.56563299e+00  1.35679437e+00  1.55395531e+00\n",
      "   1.37544716e+00  1.10691431e+00  3.08665273e-01  1.94896664e+00\n",
      "   1.20094586e+00  6.70823353e-01  1.71050169e+00  3.03548308e+00\n",
      "   1.86003143e+00 -5.48275427e-01  3.29496568e-01  1.28854734e+00\n",
      "   1.20702642e+00 -1.14855895e-02  5.26761247e-01  9.57992370e-01\n",
      "   5.66650528e-01 -9.17584489e-01  8.61956138e-01  4.07232146e-01\n",
      "  -3.84611032e-01  4.77391443e-01  2.91198045e+00  1.07142740e+00\n",
      "   1.08416479e+00  1.24791697e+00  7.19499259e-01  5.88376556e-01\n",
      "   1.29260230e+00  1.31174620e+00  1.53425618e+00  3.11968265e-01\n",
      "   3.23970712e+00  3.82622344e-01 -4.04199865e-03  1.27619070e+00\n",
      "   2.05351728e+00  2.44861660e+00 -5.92252955e-01  1.82035562e+00\n",
      "   2.70441079e+00  2.21142543e+00  4.09064896e-01  4.35947099e-01\n",
      "   1.31004485e+00  1.53010769e+00 -9.78269353e-01  2.48032701e-01\n",
      "   1.14977404e+00  4.49000176e-02  1.42470054e+00 -2.82832213e-01\n",
      "   1.22692528e+00  2.64596799e+00  8.72642105e-01 -6.07943968e-02\n",
      "  -3.34452548e-01  6.83466672e-01  1.14108156e+00  1.56686359e+00\n",
      "  -1.11950805e+00  1.54833568e+00  2.22434065e+00  1.40409028e+00\n",
      "  -5.62682704e-02  1.20821561e+00  1.52978300e+00 -7.44521311e-01\n",
      "   1.48123236e+00  1.42036104e+00  9.85428061e-01  5.27737393e-01\n",
      "   1.64858036e+00  2.50797111e+00  6.07838042e-01 -9.20660813e-01\n",
      "  -6.26230170e-01  4.03425795e-01  7.09904448e-01  2.02292128e+00\n",
      "   9.45809288e-01  2.00017412e+00 -9.00367032e-01  9.82204901e-02\n",
      "   9.46792835e-01  6.42753629e-01  6.85177570e-01  9.45738944e-01\n",
      "   1.05481878e+00  6.87198516e-01  2.63974274e+00  2.73931267e+00\n",
      "  -4.22122731e-01 -3.05076719e-01  1.86666943e-01  1.94745241e-01\n",
      "  -2.96426055e-01  1.73722877e+00  2.08882671e+00  1.33864287e+00\n",
      "   2.20223564e+00  1.14726782e+00  1.72220261e+00  1.33324886e+00\n",
      "   1.59768867e+00  1.03837450e+00  2.02134771e+00  1.44507937e+00\n",
      "   1.25592056e+00  2.35544743e+00  2.02833113e+00  9.62782448e-01\n",
      "   8.20325854e-01  1.22088938e+00  2.62554369e+00  6.41204947e-01\n",
      "   1.68338696e-01  2.96074618e-01  1.62980571e+00  1.29275937e+00\n",
      "   5.92032064e-01  9.76684246e-01  1.35692529e+00  1.78264029e+00\n",
      "  -6.36338625e-02  1.08930206e+00  1.29294355e+00  1.47343990e+00\n",
      "   6.14792158e-01  1.18373941e+00  1.14309292e+00  6.57538398e-01\n",
      "   7.50772906e-01  2.13482247e+00  7.71733068e-01  9.61094534e-01\n",
      "   1.02634356e+00 -3.13364474e-01  1.98240706e+00  1.87267805e+00\n",
      "   1.44724307e+00  7.30945924e-01  1.55452582e+00  6.46419211e-01\n",
      "   8.47231869e-01  1.99208907e+00  1.91402360e+00  3.12760449e+00\n",
      "   3.57656960e-02  1.23371623e+00 -6.74943212e-01  6.65919317e-01\n",
      "   5.61119516e-01  5.02404857e-01  1.09357468e+00  1.03624702e+00\n",
      "  -4.65192911e-02  5.43247596e-01  1.37524621e+00  9.34831207e-01\n",
      "   9.78662048e-01 -1.55874836e-01  4.24052417e-01  1.86403342e+00\n",
      "   1.38507237e+00 -2.71017127e+00 -3.05822152e-01  2.01680558e-01\n",
      "   6.57948777e-01  1.84041536e+00  2.67896361e+00  2.03861576e+00\n",
      "   6.63762044e-02  1.35789683e+00  8.44019293e-01  2.56415989e-01\n",
      "   2.57004396e+00  5.51754884e-01  3.38854044e+00  2.77497266e-01\n",
      "   1.87611333e+00 -2.93094045e-01  1.41919838e+00  2.84585863e-01\n",
      "   2.03232010e+00  3.57356610e-01  6.84028688e-01  2.50053925e+00\n",
      "   2.04858955e+00  1.52639327e+00  1.63885585e+00  1.77908038e+00\n",
      "   1.79100675e-02  2.17782504e+00  2.38400284e+00  1.15080136e+00\n",
      "  -2.66620151e-01  3.78095467e+00  1.96660105e+00  2.75853502e-01\n",
      "   7.51493204e-01  1.94151542e+00  3.71459078e+00 -6.57870230e-01\n",
      "   1.04606803e+00  1.90434520e+00  2.09747965e+00  7.24944122e-01\n",
      "   1.28787791e+00  5.90936077e-01  1.85513418e+00  6.71751997e-01\n",
      "   1.82735231e+00  6.54650520e-01  4.56857208e-01  2.16969552e+00\n",
      "  -7.61549327e-01  2.10901912e+00 -1.62424525e-01  1.88285714e+00\n",
      "  -1.96122642e-02  1.15040474e+00  4.44133633e-02  8.26210630e-01\n",
      "   1.57119992e+00 -5.83892773e-01  2.89643352e+00  2.41565809e-01\n",
      "   1.30098451e+00 -7.57301097e-01  1.62596790e+00 -4.48502851e-01\n",
      "   7.38733811e-01  2.10497566e+00 -3.64924384e-01  6.31283976e-01\n",
      "   5.80475156e-01  1.86343008e+00  1.57725970e+00  1.37189880e+00\n",
      "   1.87849617e+00  9.41259663e-01  2.69155061e+00 -6.12839950e-03\n",
      "   2.87169280e-01  1.95786368e+00  6.89743316e-01 -2.24005945e-01\n",
      "   1.16291496e-02  5.68036246e-01  9.54228271e-01 -1.63361208e-01\n",
      "   1.89227913e+00  2.91696252e+00  2.44372724e+00  1.74397295e+00\n",
      "   2.55607594e+00  3.94352272e-02 -5.04440364e-01  7.59854641e-01\n",
      "   9.07169681e-01  1.13611554e+00  1.07430425e+00 -2.01263442e-01\n",
      "   6.64996095e-01  2.84210552e+00  1.19342169e+00  1.31911671e+00\n",
      "   4.10085234e+00  2.31961359e+00  9.96624861e-02 -1.13824600e+00\n",
      "   1.02740094e+00  2.44151925e+00  2.05265120e+00 -4.57979521e-02\n",
      "  -2.39505042e-01  3.51199003e+00  2.31858334e+00  1.44870021e+00\n",
      "   1.06508709e+00  2.28520941e+00  1.83257018e+00 -1.03089833e-01\n",
      "   1.51097266e+00  7.31850688e-01  1.00073458e+00 -2.26311717e-01\n",
      "   9.28727047e-01  2.75449487e-01  6.71277349e-01  2.00151961e+00]]\n"
     ]
    }
   ],
   "source": [
    "# your code here\n",
    "import math\n",
    "from math import cos,sin,pi\n",
    "v = np.array([v1,v2])\n",
    "print(v)"
   ]
  },
  {
   "cell_type": "code",
   "execution_count": 117,
   "id": "82437f1d-34f1-4374-b6b1-55c81318281b",
   "metadata": {
    "scrolled": true
   },
   "outputs": [
    {
     "name": "stdout",
     "output_type": "stream",
     "text": [
      "(2, 2) (2, 500) (2, 500)\n",
      "[[ 0.5       -0.8660254]\n",
      " [ 0.8660254  0.5      ]]\n",
      "w: [[ 2.52852383e+00  4.64471449e+00  5.92328748e-01  5.08361572e-01\n",
      "  -2.95520573e-01 -2.26662246e+00  2.27342333e+00  2.59388365e+00\n",
      "  -4.50253449e+00  6.46881813e+00 -1.40080445e+00  1.39269043e+00\n",
      "  -1.97927501e+00 -2.32963697e+00 -6.00733548e-01  8.76680202e-01\n",
      "   1.92874966e+00  2.69428283e+00  7.02237260e-01  1.72412267e+00\n",
      "  -2.94101527e+00  3.21444662e-01  7.52108446e-01  2.04444386e+00\n",
      "   5.75535349e+00  3.21381403e+00  3.77138333e+00  3.48214557e-01\n",
      "   3.21582148e-01  1.61342274e+00  4.77638817e+00  1.06663536e+00\n",
      "   4.82118333e-01  3.77135926e+00  3.07854468e-01 -9.93703736e-01\n",
      "  -1.31699367e+00 -2.41549839e+00 -1.37933603e+00 -5.88427532e-01\n",
      "  -1.10402505e+00  3.61707712e-01 -2.94996408e-01 -2.94386104e+00\n",
      "  -1.77866473e-01  3.68749094e-01  8.72363251e-01 -2.64131016e+00\n",
      "  -5.59025837e-01 -6.40985713e-01  2.98019758e+00  3.01447825e+00\n",
      "  -4.87044159e+00  2.61334748e+00  7.04226033e+00 -1.23189078e+00\n",
      "   2.57397124e+00 -1.23120085e-01 -3.61252020e-01 -1.62319805e+00\n",
      "   1.02068684e+00  1.11260856e+00  7.59618960e-01  1.65339890e+00\n",
      "  -2.27592397e+00  1.05255699e-02  2.62393080e+00  5.94532919e-01\n",
      "  -2.93612934e+00  3.52391018e-01  6.94616312e-01  9.18408153e-01\n",
      "  -2.62723792e+00  6.34406652e-01 -1.72941981e+00 -2.31893977e+00\n",
      "   6.74676100e-01  5.01659220e-01  6.21622536e-02  3.59798565e+00\n",
      "   2.84687923e+00 -9.97303152e-01  2.21802083e+00  5.95703551e-02\n",
      "  -6.59698222e-01  9.43071238e+00  2.92320277e+00 -7.18291452e+00\n",
      "   1.61832692e+00  2.19015846e+00 -1.58147546e-01 -2.38292326e+00\n",
      "  -2.87986902e+00  4.41857511e+00  2.20310394e-02  1.00871421e-02\n",
      "  -4.37834423e-02 -3.79609888e-01 -2.34211563e+00  2.39546563e+00\n",
      "  -2.09321552e+00 -1.88013084e+00  1.33201735e+00  1.10331279e+00\n",
      "  -2.15871100e+00 -2.09767512e+00  1.82671010e+00  5.57361751e+00\n",
      "   1.51202099e+00 -2.06204362e+00 -2.79299998e-01 -3.22202805e+00\n",
      "  -4.18640422e-01 -1.22082504e+00  1.78631950e+00 -3.06736089e+00\n",
      "   1.94591161e-01  7.16411786e-01  3.84949647e+00  1.61318560e+00\n",
      "   2.82305374e-01 -2.30106214e+00  3.45518132e+00  1.63011393e+00\n",
      "   2.19273548e+00 -4.91953780e-01 -3.31136709e+00 -3.33337563e+00\n",
      "   3.17852912e+00  1.08401859e-01 -1.59736452e-01  1.28383293e+00\n",
      "  -2.76452787e+00 -1.94747315e-01 -3.63972306e+00 -6.61646081e-01\n",
      "  -5.14909960e-01 -4.32118158e-01 -2.53054977e+00  5.97556259e+00\n",
      "   3.17200644e+00  4.09117886e-01  1.92637923e+00  3.70015264e+00\n",
      "   3.68009486e+00 -8.34551129e-01  1.83552544e+00  2.75496454e+00\n",
      "  -1.83243452e+00 -5.76717746e-01  5.84853246e+00 -2.74423569e+00\n",
      "  -2.40166717e+00  6.12437530e-01 -1.06811678e+00  2.43631792e-01\n",
      "   2.76128542e+00  1.60674056e+00 -1.70325399e+00  1.98261555e+00\n",
      "   2.90086602e+00 -2.44677753e+00 -6.67342752e-01 -1.76141394e+00\n",
      "  -1.60679639e+00 -5.07069435e+00  1.95653831e+00  2.88724616e+00\n",
      "  -4.77854971e+00  1.24867117e+00  1.24838165e+00 -4.22963658e-01\n",
      "   2.61539644e-02 -1.10221469e-01  4.38599024e+00 -1.27280377e-01\n",
      "  -4.75534069e+00  9.64243836e-01 -5.39405027e+00  5.40338648e+00\n",
      "  -3.20573851e+00  4.35666549e+00  2.72129502e+00  5.15676542e+00\n",
      "  -3.86702396e+00  2.86754898e+00 -6.23066228e-01  7.32025725e-01\n",
      "  -3.56751711e+00 -1.32599127e+00  2.15473665e+00  3.03550086e-01\n",
      "  -1.30337043e+00  1.73118346e+00  1.92098515e+00  2.98646591e+00\n",
      "  -2.19927438e+00  1.74143380e+00  3.84013318e+00 -3.89409889e+00\n",
      "   7.87477150e-01  2.60678222e+00  3.55966502e-02 -4.28246441e+00\n",
      "  -1.39984489e-01  1.39653972e+00 -1.78665079e+00  2.81504414e+00\n",
      "   4.39134624e-01 -2.39442939e+00 -7.87196514e-01 -2.06085774e-01\n",
      "   4.24544204e-03  5.35067977e+00  1.37866228e+00 -4.10025681e+00\n",
      "  -2.69365606e-01 -5.52526351e-01 -6.81249036e+00  1.27512035e-01\n",
      "   1.75912173e+00  4.13155525e+00 -1.16597281e+00  2.53085936e+00\n",
      "   2.59085035e+00  2.78068333e+00  4.85447032e+00 -1.91156158e+00\n",
      "   2.19393426e-01 -1.11061394e+00 -5.86540996e+00 -3.66210259e+00\n",
      "  -2.39439254e+00  3.42308800e+00 -3.03018263e+00  2.63860837e+00\n",
      "  -8.45848430e-01 -1.18384787e+00 -1.21009590e+00 -2.87087704e+00\n",
      "  -7.35673019e-01 -3.06658582e-01 -4.78133617e-01  1.02214714e+00\n",
      "   1.61404441e+00 -1.26924640e+00  2.60958916e+00  6.41127410e+00\n",
      "  -7.02364314e+00  5.44582905e-01  1.06030622e+00  2.83477600e+00\n",
      "  -3.94134658e+00 -9.89786390e-01  2.04480716e+00 -4.80072567e-01\n",
      "   2.18334831e-01 -1.42879177e+00 -1.04419523e+00  1.25559191e+00\n",
      "   4.07254126e+00 -5.86287173e+00 -2.65120676e-01  2.94062393e+00\n",
      "   4.21378379e+00  1.78309241e+00 -1.91900032e+00  3.04733377e+00\n",
      "   1.37841506e-01 -5.85290565e-01 -3.30512268e+00  3.02507697e+00\n",
      "   3.24767737e+00  1.04544734e+00  5.12725541e-01 -2.60968118e+00\n",
      "   1.89097362e+00  2.27577304e+00 -1.02660002e+00 -3.10528584e+00\n",
      "   3.19506745e-01  4.59967453e-01  6.54730211e-01 -1.07745247e+00\n",
      "   1.29025697e+00  3.90043072e-01  2.29681305e+00  3.75462649e-01\n",
      "  -3.01815336e+00  2.82507591e+00 -2.79537654e-01  3.13319860e+00\n",
      "   7.07527220e-01  2.17111289e+00  6.23262013e-01  2.93719023e+00\n",
      "  -1.39516961e+00  4.57615468e+00  1.14919336e+00 -1.97197012e+00\n",
      "  -4.61691294e+00 -1.28551655e+00  3.64526917e-02 -2.08188134e+00\n",
      "   1.54980190e+00 -9.72293453e-01 -2.25287181e+00  2.31767169e+00\n",
      "  -2.42506120e-01  3.47525203e+00 -1.28864670e+00 -4.49705550e+00\n",
      "  -1.29705663e+00  4.86036232e+00  1.10815237e+00 -4.14524363e+00\n",
      "   1.23481682e+00  1.17010038e+00 -1.28920291e+00 -1.99348628e+00\n",
      "  -2.03350968e+00 -5.27055714e+00 -2.86542125e+00  2.96215482e+00\n",
      "  -3.35981509e-02 -9.65856505e-01 -3.20103522e+00 -2.38644365e+00\n",
      "   3.16756750e+00 -6.30680946e+00 -5.28159203e+00  9.17601662e-01\n",
      "   2.33623799e+00  2.07739128e+00  2.02392952e-01  2.20963615e+00\n",
      "   1.50456744e-02 -3.28937942e+00  1.64666858e+00 -2.73452245e+00\n",
      "  -9.02766151e-01  1.21504987e+00  4.30995221e-01  5.31079468e-01\n",
      "   4.26842645e-01  5.03776557e+00  1.32163774e+00  4.52573028e+00\n",
      "  -2.60113418e+00  2.70427876e+00 -3.16970634e+00  1.56242249e+00\n",
      "  -1.25734203e+00 -2.99195206e+00  5.47939537e-02 -2.90885386e+00\n",
      "  -4.24920559e-01  4.59397490e-01  5.70253395e+00 -1.76289174e+00\n",
      "  -1.87893443e+00 -3.85415632e-01 -4.72346743e-01 -6.27303571e-01\n",
      "   3.40522635e-01  2.83529118e+00 -1.44991282e+00  1.11704983e+00\n",
      "  -3.00152513e+00 -1.22070280e+00  2.52223463e-01 -3.10937787e-01\n",
      "   8.46557533e-01  2.76382205e-01  3.80842632e-01  1.16418770e+00\n",
      "   6.89490945e+00  2.17569861e+00 -1.07170471e+00  1.72831543e-01\n",
      "  -1.53607984e+00  4.86533564e-02  5.52827598e-01 -2.23475028e-01\n",
      "  -4.98421792e-01  1.89468976e+00  4.47712854e-01  2.24211953e+00\n",
      "   3.39870520e+00  1.07221892e-01 -2.26954124e+00  3.99703827e+00\n",
      "  -2.25570794e+00  3.79922825e+00 -1.89064667e+00 -1.83289088e-01\n",
      "  -2.59134940e+00 -1.64432393e+00  1.82352328e+00 -1.63425710e+00\n",
      "   3.73233684e+00 -5.31408737e+00 -4.64986565e+00  5.62972993e+00\n",
      "   2.39650824e+00  2.55050672e+00 -2.41402770e+00 -8.09998710e-01\n",
      "  -3.35436141e+00  8.85899096e-01 -6.16240422e+00  6.67098913e+00\n",
      "  -8.53399770e-01 -5.50536154e+00 -2.95755859e+00  3.02104527e+00\n",
      "   1.23203359e+00 -1.23270570e+00 -1.83187878e+00  2.93438423e+00\n",
      "   8.46356172e-01  3.44846291e+00 -7.29668365e-01 -2.95225098e+00\n",
      "  -2.05570986e+00 -2.67421592e+00  3.25657131e+00  4.54792667e+00\n",
      "  -2.30472490e+00  1.75468851e-01  3.25348361e+00 -4.68555582e+00\n",
      "   2.54284754e-01  1.83846811e+00 -2.79809976e+00  1.11200916e+00\n",
      "  -2.38360119e+00  5.51628167e-01 -1.78198680e+00 -2.15127013e+00\n",
      "   2.62432162e+00 -5.77307242e+00  3.63677883e+00  3.60957541e-01\n",
      "  -1.03301265e+00 -5.46322946e+00 -5.60851590e+00  2.41940060e+00\n",
      "  -1.62348553e+00  5.21483291e+00  3.39674628e+00 -1.94740331e+00\n",
      "   2.39638067e+00 -3.78183359e+00  1.20065798e+00 -1.15676631e+00\n",
      "  -2.75003996e+00  1.06321463e+00 -1.49870784e+00 -5.10287764e-01\n",
      "   5.70596832e-01 -4.83183273e+00 -2.33321195e+00 -2.30137977e-01\n",
      "  -6.00386599e-01  3.24051904e+00 -1.59954978e+00  4.12608272e-01\n",
      "   4.86495560e-01 -5.75264994e-01  1.92933372e+00  5.26707633e+00\n",
      "  -8.36558120e-01  4.03667215e+00  2.39451360e+00  1.26656770e+00\n",
      "  -5.77981181e+00  1.21083239e+00 -3.56071106e+00 -3.63104958e+00\n",
      "   5.73198570e-01 -3.20877885e+00 -2.44307816e+00 -2.65906714e-01\n",
      "   1.42220334e+00 -2.89930980e+00 -5.26413615e+00  4.87526583e-01\n",
      "  -1.16116583e+00 -3.26007689e+00 -2.38210184e+00  3.95267307e+00\n",
      "   2.00164413e-03  4.90804416e+00  7.01615877e-01 -2.07715960e+00\n",
      "  -1.43914779e+00  6.35066563e-01  1.06898926e+00 -3.40790423e+00]\n",
      " [ 5.71385258e+00  8.75382819e+00  2.26968081e+00  5.78982042e-01\n",
      "   1.50281144e+00  1.68661314e+00  6.95890298e+00  7.19000359e+00\n",
      "   2.42203972e-02  1.24156535e+01 -1.46163089e+00  5.64752408e-01\n",
      "  -1.72428275e+00 -1.66964481e+00  2.26682890e+00  6.09812130e+00\n",
      "   5.52978207e+00  7.86112925e+00  3.59096040e+00  2.42463159e+00\n",
      "  -1.24200178e+00  6.65759105e-01  2.05025854e+00  6.38626002e+00\n",
      "   1.12087113e+01  9.21756316e+00  5.51539133e+00  4.31898556e-01\n",
      "   3.37453353e+00  2.01368156e+00  9.00495231e+00  3.92826636e+00\n",
      "   2.43081448e+00  9.28080509e+00  3.88029037e+00 -1.02902723e-01\n",
      "  -1.71495337e+00  9.10449727e-01 -1.01876617e+00  1.45039470e+00\n",
      "   2.97507380e+00  9.26105009e-01  1.74303013e+00 -1.46701142e-01\n",
      "   1.39841809e+00  1.77284492e+00  5.87177094e+00  1.54400379e-01\n",
      "   1.55531619e-01 -5.12018862e-01  5.19238314e+00  8.04309953e+00\n",
      "  -1.96627256e+00  8.26248916e+00  1.28764338e+01  2.63114597e-02\n",
      "   4.29386363e+00  4.05399605e+00 -4.96811441e-01 -1.55360913e+00\n",
      "   3.77784198e+00  6.38087534e+00  2.29800503e+00  3.53228022e+00\n",
      "  -2.69426772e+00  1.52082221e+00  4.98859188e+00  3.65298011e+00\n",
      "  -6.39814760e-01  3.55176254e+00  5.83450220e+00  2.44243544e+00\n",
      "  -4.86068014e+00  4.77188942e+00  2.60209572e+00 -3.23093324e+00\n",
      "   4.26997756e+00 -1.14701569e+00  4.32106478e+00  5.34935639e+00\n",
      "   5.42364487e+00 -3.34885241e-01  5.92072027e+00 -1.01376862e+00\n",
      "  -2.59886467e-01  1.53725069e+01  4.17357617e+00 -7.74574666e+00\n",
      "   3.57361834e+00  5.35193967e+00  3.81078246e+00 -1.20206918e+00\n",
      "  -1.02954486e+00  6.30351730e+00 -1.82140885e-01  1.15692329e+00\n",
      "   5.23542326e-01  4.47272731e+00 -5.69364040e+00  7.85688905e+00\n",
      "   2.90765600e-01 -2.73586883e+00  2.30180003e+00  5.64700240e+00\n",
      "  -4.32707961e+00 -2.23219918e+00  7.66673996e+00  8.91234309e+00\n",
      "   6.64706903e+00  6.44347477e-01  1.92921914e+00 -1.41524121e+00\n",
      "   3.96786021e+00  5.61309286e-01  5.13907777e+00 -2.24241334e-01\n",
      "   2.27215274e+00  2.78080742e+00  9.39687320e+00  5.43578650e+00\n",
      "   1.09375022e+00 -4.85268466e+00  6.55482448e+00  4.63456700e+00\n",
      "   5.07788210e+00 -1.23199317e+00 -1.14905474e+00 -3.29230504e+00\n",
      "   2.57875544e+00  4.05694062e+00  1.46234576e+00  1.10075707e+00\n",
      "   2.23119370e+00  2.07378987e+00 -3.32995548e+00  3.36972527e+00\n",
      "   2.51196064e+00  2.64776496e+00 -1.39427744e+00  1.07596271e+01\n",
      "   8.32366329e+00  2.19013284e+00  7.56068320e+00  3.58661112e+00\n",
      "   8.78748271e+00  2.68007325e+00  3.29736077e+00  6.75163375e+00\n",
      "  -7.96162925e-02  5.20249601e+00  9.09829969e+00 -3.11423527e+00\n",
      "  -2.17108962e+00 -5.43537081e-01  2.61428316e+00  3.58703908e+00\n",
      "   4.60646307e+00  3.55419279e+00 -1.23152825e+00  7.14718196e+00\n",
      "   4.67763486e+00  6.92140564e-01 -9.20655440e-01  2.01559033e+00\n",
      "   3.67625817e-01 -4.53872645e+00  2.26999010e+00  5.19648742e+00\n",
      "  -6.65707664e+00  7.81739049e-01  2.95007708e+00 -1.24314801e+00\n",
      "   3.79371579e+00  1.39172060e+00  8.08714847e+00  5.41057389e-01\n",
      "  -9.52070343e+00  2.65459318e+00 -6.12832862e+00  7.61758118e+00\n",
      "  -1.76548507e-01  9.65618353e+00  4.93544389e+00  1.22247567e+01\n",
      "  -1.42530379e+00  7.28320894e+00  2.76664425e+00  2.86380405e+00\n",
      "  -7.16301240e-01  2.97344568e+00  9.88041258e+00  2.88348843e+00\n",
      "   1.94978251e+00  3.25057429e+00  5.20257849e+00  4.75215224e+00\n",
      "  -7.01486429e-01  4.06319053e+00  4.21926278e+00 -4.12912883e+00\n",
      "   3.38851207e+00  4.56402810e+00  2.32957371e+00 -5.78996762e+00\n",
      "   3.52113415e+00  5.55014373e+00 -3.80981202e-01  7.98371009e+00\n",
      "   3.51149781e+00 -1.93344472e+00 -7.46133811e-01  3.54098225e+00\n",
      "   2.40924504e+00  1.06092959e+01  5.80891649e+00 -1.03088695e+00\n",
      "   3.25350794e+00 -2.05355457e+00 -1.11405863e+01  2.79795200e+00\n",
      "   5.46094106e+00  7.13309243e+00 -9.66001659e-01  6.29956173e+00\n",
      "   5.62078550e+00  2.98111583e+00  1.01321015e+01 -2.49645749e+00\n",
      "  -3.89221503e-01 -9.68856888e-01 -4.33522715e+00 -4.20009295e+00\n",
      "  -1.97887996e+00  8.42479627e+00 -3.80943176e+00  5.74695687e+00\n",
      "   1.12015215e+00  5.73007748e-01  9.72564784e-01 -4.34856836e+00\n",
      "   5.20519118e+00  2.34096442e-01 -8.36235715e-01  4.32279219e+00\n",
      "   6.90264147e+00  2.69883395e+00  3.33543511e+00  1.47453637e+01\n",
      "  -6.75648518e+00  5.36609613e+00  2.65463403e+00  5.78187027e+00\n",
      "  -4.20652283e+00  1.34585506e+00  1.58517119e+00 -3.35444675e-01\n",
      "   2.67771511e+00 -2.38493991e+00  1.04080190e+00  1.60908455e+00\n",
      "   9.50769892e+00 -4.86285574e+00  1.28608173e+00  4.97172125e+00\n",
      "   6.62958252e+00  4.45534000e+00 -1.04164294e+00  8.41186409e+00\n",
      "  -2.00026761e+00  2.08291836e+00 -1.27595911e+00  8.04776757e+00\n",
      "   5.51260568e+00  4.22719913e+00  3.94763269e+00 -6.00914302e+00\n",
      "   6.23772709e+00  6.78247662e+00  1.92732721e-01 -4.32303806e+00\n",
      "   3.85056264e+00  5.81262921e+00  2.34970207e+00 -3.70752405e+00\n",
      "   9.82330280e-01  1.48242601e+00  5.39800580e+00  4.69616294e+00\n",
      "  -3.33597638e+00  8.89352325e+00 -2.28490748e+00  5.62330015e+00\n",
      "   3.11905876e+00  5.04598509e+00  2.44987661e+00  6.97884060e+00\n",
      "  -3.06867098e-01  9.30052945e+00  7.26994676e+00  2.06307290e+00\n",
      "  -8.84097325e+00 -2.83673341e+00  4.36471800e-01 -3.21643378e+00\n",
      "   2.09148352e+00  1.79039588e+00  2.75564985e-01  6.69161086e+00\n",
      "   3.98443835e+00  8.31384873e+00  1.21240366e+00 -5.12263090e+00\n",
      "   9.48809369e-01  1.04951435e+01  5.96207162e+00 -4.28961383e+00\n",
      "   4.65060659e+00  6.73756818e+00  1.82369733e+00 -1.52725462e+00\n",
      "  -1.88149038e+00 -6.68709398e+00  2.88032180e-01  6.41301255e+00\n",
      "   2.78483688e-01 -1.08076331e+00 -2.28474421e+00 -1.54792291e+00\n",
      "   6.67045198e+00 -8.97034592e+00 -6.43413516e+00  5.15461327e+00\n",
      "   3.91921517e+00  5.77675137e+00  2.93644198e+00  6.77408187e+00\n",
      "   1.25564419e+00 -3.32989346e+00  5.13829948e+00 -3.42125502e+00\n",
      "  -6.20910290e-02  6.37417306e+00  2.28997176e+00  2.84204569e+00\n",
      "   2.79200026e+00  8.09893697e+00  6.25395784e+00  1.15841509e+01\n",
      "  -1.61081042e+00  6.14584005e+00 -2.38104078e+00  3.99903356e+00\n",
      "  -4.83316543e-01 -1.19803483e+00  3.92295312e+00  1.21692630e+00\n",
      "  -6.64452605e-01  3.26313225e+00  8.52719211e+00 -1.72157943e+00\n",
      "  -2.13217087e+00  3.37250257e-01  1.36902080e+00  9.85972387e-01\n",
      "   4.96763922e-01  5.99736358e+00  2.39169759e-01  3.80444948e+00\n",
      "  -3.24146993e+00 -2.42606895e+00  1.28496869e+00  3.18950680e+00\n",
      "   4.23642540e+00 -4.94163451e+00  4.79944850e-02  2.41979336e+00\n",
      "   1.32582310e+01  7.44925127e+00  3.50168021e+00  4.37658453e+00\n",
      "  -2.52781591e+00  2.80006375e+00  2.64556407e+00  1.25761876e-01\n",
      "   4.27679606e+00  4.38520869e+00  7.55254228e+00  4.43845948e+00\n",
      "   9.63895675e+00 -4.00474325e-01 -1.09256396e+00  7.49224508e+00\n",
      "   1.57639427e-01  7.29516958e+00 -1.90663872e+00  4.68361248e+00\n",
      "  -3.91169729e-01  2.04733954e-01  6.43614665e+00  7.27544425e-01\n",
      "   6.50041718e+00 -4.84861925e+00 -3.28579787e+00  1.20525810e+01\n",
      "   3.61763372e+00  1.19795166e+01 -2.48016528e-01 -8.51251916e-01\n",
      "  -4.30693797e+00  5.41745308e+00 -3.24441564e+00  1.02387516e+01\n",
      "   6.14004295e-01 -5.72687551e+00 -9.27682446e-01  6.68249215e+00\n",
      "   4.70970059e+00 -9.53236757e-01  5.37361229e-01  6.42600656e+00\n",
      "   5.12063650e+00  7.28221400e+00 -3.50108264e-01 -7.74057640e-01\n",
      "  -5.08369257e+00 -4.13839612e-01  5.31569792e+00  1.16429543e+01\n",
      "  -4.03112515e+00  2.60473045e+00  5.72402565e+00 -6.46319948e+00\n",
      "   3.58283396e+00  2.01653463e+00  9.46416081e-01  2.40918798e+00\n",
      "  -1.52654935e+00 -5.59154182e-01  1.65444121e-01 -4.62311487e+00\n",
      "   6.02292600e+00 -5.78930343e+00  5.56923694e+00  1.88776475e+00\n",
      "  -6.28280076e-01 -5.73573083e+00 -6.55971509e+00  6.93432236e+00\n",
      "   9.45032918e-01  1.09148749e+01  1.12664384e+01 -3.38525827e+00\n",
      "   4.72499163e+00 -2.63460056e+00  3.45908726e+00 -2.45158992e+00\n",
      "  -4.73995063e+00  2.97761425e+00 -6.87381584e-01 -1.21056675e+00\n",
      "   4.77286096e+00 -2.53505474e+00  8.46212835e-01  3.08933524e+00\n",
      "   4.07225179e+00  5.69161408e+00 -3.77938221e+00  2.23436777e+00\n",
      "   2.65697439e+00  1.27584289e+00  5.49031254e+00  8.72031693e+00\n",
      "  -1.18968976e-01  1.26759323e+01  6.53426259e+00  4.83199303e+00\n",
      "  -1.80922302e+00  6.73645040e+00 -5.96800750e+00 -8.56565436e+00\n",
      "   3.04761092e+00 -6.74729501e-01 -1.26233098e-01 -5.52159842e-01\n",
      "   1.98431837e+00  2.00222820e+00 -4.48058460e+00  3.74182122e+00\n",
      "   1.18975963e-01 -1.07619998e+00 -4.60781049e-01  6.64005091e+00\n",
      "   3.02541227e+00  9.96468323e+00  3.21670351e+00 -4.05036939e+00\n",
      "  -6.35222992e-01  1.65086653e+00  3.19409842e+00 -1.89962407e+00]]\n"
     ]
    }
   ],
   "source": [
    "angle = pi/3\n",
    "R = np.array([[math.cos(angle),-math.sin(angle)],[math.sin(angle),math.cos(angle)]])\n",
    "w = np.matmul(R,v)\n",
    "print(R.shape,v.shape,w.shape)\n",
    "print(R)\n",
    "print(\"w:\", w)"
   ]
  },
  {
   "cell_type": "markdown",
   "id": "b454a717",
   "metadata": {
    "slideshow": {
     "slide_type": "subslide"
    }
   },
   "source": [
    "> ***Question***\n",
    "> - Compute the mean of $\\mathbf w = (w_1,w_2)$ with two different techniques: \n",
    ">     - direct computation with `np.mean` (be careful, you need to compute the mean along the second dimension only! Look at the documentation.)\n",
    ">     - with $R$ and the mean of $\\mathbf v$.\n",
    "\n",
    "For the second method, you will have to derive the formula from the definition of $\\mathbf w$"
   ]
  },
  {
   "cell_type": "code",
   "execution_count": 128,
   "id": "e6689ea0",
   "metadata": {},
   "outputs": [
    {
     "name": "stdout",
     "output_type": "stream",
     "text": [
      "[0.09361653 2.22917593]\n",
      "[1.97733125 1.03351367]\n",
      "[0.09361653 2.22917593]\n"
     ]
    }
   ],
   "source": [
    "# your answer here\n",
    "# 1st method\n",
    "w_mean = w.mean(axis=1) # row wise mean\n",
    "print(w_mean)\n",
    "\n",
    "#2nd Method\n",
    "v_mean = v.mean(axis=1)\n",
    "print(v_mean)\n",
    "w_mean_2ndMethod = np.matmul(R,v_mean)\n",
    "print(w_mean_2ndMethod)\n"
   ]
  },
  {
   "cell_type": "markdown",
   "id": "944c3677",
   "metadata": {
    "slideshow": {
     "slide_type": "subslide"
    }
   },
   "source": [
    "> ***Question***\n",
    "> - Can you guess what the covariance between $w_1$ and $w_2$ will be? [Hint](https://en.wikipedia.org/wiki/Covariance#Covariance_of_linear_combinations)\n",
    "> - Compute the theoretical covariance matrix $C_w$ as a function of $R$ and $C_v$ (the covariance matrix of $\\mathbf v$) [Hint](https://en.wikipedia.org/wiki/Covariance#Auto-covariance_matrix_of_real_random_vectors)\n",
    "> - Compute the covariance matrix of $\\mathbf w$ with 2 methods: \n",
    ">      - with `np.cov`, \n",
    ">      - with `R` and `Cv`\n",
    "> - Comment your results\n",
    "\n",
    "You should get\n",
    "\\begin{align}\n",
    "C_w &=\\begin{bmatrix}\n",
    "    7 & 10.4\\\\\n",
    "    10.4 & 19\n",
    "\\end{bmatrix}\n",
    "\\end{align}\n",
    "\n"
   ]
  },
  {
   "cell_type": "code",
   "execution_count": 129,
   "id": "46ff671d",
   "metadata": {
    "scrolled": true,
    "slideshow": {
     "slide_type": "subslide"
    }
   },
   "outputs": [
    {
     "data": {
      "text/plain": [
       "array([[ 7.06442565, 10.33852482],\n",
       "       [10.33852482, 18.73523188]])"
      ]
     },
     "execution_count": 129,
     "metadata": {},
     "output_type": "execute_result"
    }
   ],
   "source": [
    "# your answer here\n",
    "w \n",
    "w1 = w[0]\n",
    "w2 = w[1]\n",
    "np.cov(w1,w2)\n"
   ]
  },
  {
   "cell_type": "markdown",
   "id": "48af9da1",
   "metadata": {
    "slideshow": {
     "slide_type": "subslide"
    }
   },
   "source": [
    "## Matplotlib for plotting\n",
    "\n",
    "To visualize data, matplotlib is the reference tool. Matplotlib is also what runs behind the scene of high level python libraries (pandas, xarray) and so knowing the basics will also be useful there."
   ]
  },
  {
   "cell_type": "code",
   "execution_count": 32,
   "id": "fdf13947",
   "metadata": {
    "scrolled": true,
    "slideshow": {
     "slide_type": "subslide"
    }
   },
   "outputs": [],
   "source": [
    "import matplotlib.pyplot as plt"
   ]
  },
  {
   "cell_type": "markdown",
   "id": "bc2359a1",
   "metadata": {
    "slideshow": {
     "slide_type": "subslide"
    }
   },
   "source": [
    "> ***Question***\n",
    "> - Can you visualize the data set `V` that we generated earlier. you can either pass the two variables to the function `plt.plot` in order to plot $v_2$ as a function of $v_1$ or we can use the function `plt.scatter`. Don't forget to \n",
    ">    - adjust the type and size of markers [Hint](https://matplotlib.org/stable/api/markers_api.html)\n",
    ">    - adjust the axis so that both axis are equally stretched [Hint](https://matplotlib.org/stable/gallery/subplots_axes_and_figures/axis_equal_demo.html).\n",
    ">    - add labels [Hint](https://matplotlib.org/stable/api/_as_gen/matplotlib.pyplot.xlabel.html)"
   ]
  },
  {
   "cell_type": "code",
   "execution_count": 136,
   "id": "22460c68",
   "metadata": {
    "slideshow": {
     "slide_type": "subslide"
    }
   },
   "outputs": [
    {
     "data": {
      "text/plain": [
       "Text(0, 0.5, 'v2')"
      ]
     },
     "execution_count": 136,
     "metadata": {},
     "output_type": "execute_result"
    },
    {
     "data": {
      "image/png": "[encoded data removed]",
      "text/plain": [
       "<Figure size 640x480 with 1 Axes>"
      ]
     },
     "metadata": {},
     "output_type": "display_data"
    }
   ],
   "source": [
    "#your answer here\n",
    "import matplotlib.pyplot as plt\n",
    "plt.plot(v1,v2)\n",
    "plt.xlabel(\"v1\")\n",
    "plt.ylabel(\"v2\")"
   ]
  },
  {
   "cell_type": "code",
   "execution_count": 138,
   "id": "feb195b7-fdff-4c33-b2e0-eb4ed5ddbf91",
   "metadata": {},
   "outputs": [
    {
     "data": {
      "text/plain": [
       "<matplotlib.collections.PathCollection at 0x22602a12a60>"
      ]
     },
     "execution_count": 138,
     "metadata": {},
     "output_type": "execute_result"
    },
    {
     "data": {
      "image/png": "[encoded data removed]",
      "text/plain": [
       "<Figure size 640x480 with 1 Axes>"
      ]
     },
     "metadata": {},
     "output_type": "display_data"
    }
   ],
   "source": [
    "plt.scatter(v1,v2,\n",
    "           marker=)"
   ]
  },
  {
   "cell_type": "markdown",
   "id": "a8e2cc30",
   "metadata": {},
   "source": [
    "> ***Question***\n",
    "> - Do you *see* the lack of correlation between $v_1$ and $v_2$?"
   ]
  },
  {
   "cell_type": "markdown",
   "id": "c71c041e",
   "metadata": {
    "slideshow": {
     "slide_type": "subslide"
    }
   },
   "source": [
    "Let's analyze the probability density function (pdf) of this data set. The function [`plt.hist`](https://matplotlib.org/stable/api/_as_gen/matplotlib.pyplot.hist.html) provides a discrete estimate of the pdf along a given dimension.\n",
    "\n",
    "> ***Question***\n",
    "> - Use `plt.hist` to compute and plot an estimation of the pdf of $w_1$ and $w_2$. Don't forget to adjust the number of bins.\n",
    "> - ***(Optional)*** Compare it with the analytical probability density function of $w_1$ and $w_2$? ([Hint](https://en.wikipedia.org/wiki/Sum_of_normally_distributed_random_variables))\n",
    "\n"
   ]
  },
  {
   "cell_type": "code",
   "execution_count": 18,
   "id": "e8d3a6e7",
   "metadata": {
    "slideshow": {
     "slide_type": "subslide"
    }
   },
   "outputs": [],
   "source": [
    "# your code here"
   ]
  },
  {
   "cell_type": "markdown",
   "id": "2d882462",
   "metadata": {
    "slideshow": {
     "slide_type": "subslide"
    }
   },
   "source": [
    "We can also get a quick overview of the statistical distribution of the data with [box plot](https://matplotlib.org/stable/api/_as_gen/matplotlib.pyplot.boxplot.html).\n",
    "\n",
    "> ***Question***\n",
    "> - What is the meaning of a box plot?\n",
    "> - Try it on $w_1$"
   ]
  },
  {
   "cell_type": "code",
   "execution_count": 19,
   "id": "82ac254a",
   "metadata": {},
   "outputs": [],
   "source": [
    "# your code here"
   ]
  },
  {
   "cell_type": "markdown",
   "id": "d6a45625",
   "metadata": {
    "slideshow": {
     "slide_type": "subslide"
    }
   },
   "source": [
    "> ***Question (optional)***\n",
    "> - Use `np.histogram2d` to compute the 2-dimensional pdf\n",
    "> - (***) On a single plot, superimpose the cloud of points and the contour lines of the pdf."
   ]
  },
  {
   "cell_type": "code",
   "execution_count": 20,
   "id": "8c4087b0",
   "metadata": {
    "slideshow": {
     "slide_type": "subslide"
    }
   },
   "outputs": [],
   "source": [
    "# your answer here"
   ]
  },
  {
   "cell_type": "code",
   "execution_count": 21,
   "id": "d4a7610c",
   "metadata": {},
   "outputs": [],
   "source": [
    "# Solution\n",
    "# The (x,y) indexing is tricky: use 2 different number of bins in each direction\n",
    "#psi, xedge, yedge = np.histogram2d(W[0,:],W[1,:],bins=[5,10])\n",
    "\n",
    "#x1 = 0.5*(xedge[1:] + xedge[:-1])\n",
    "#y1 = 0.5*(yedge[1:] + yedge[:-1])\n",
    "\n",
    "#xg,yg = np.meshgrid(x1,y1,indexing='ij')\n",
    "\n",
    "#plt.plot(W[0,:],W[1,:],'.', alpha=0.1)\n",
    "#plt.contour(xg,yg,psi)\n",
    "\n",
    "#plt.axis('equal')"
   ]
  },
  {
   "cell_type": "markdown",
   "id": "25fc0dd6",
   "metadata": {},
   "source": [
    "> ***Question (Optional)***: \n",
    "> - The [Central limit theorem](https://en.wikipedia.org/wiki/Central_limit_theorem) states that If $X_1, X_2,\\dots ,X_{N}$ are $N$ random samples drawn from a population with overall mean  $\\mu$ and finite variance $\\sigma ^{2}$ $\\bar {X}_{N}$ is the sample mean, then the limiting form of the distribution, $Z=\\lim _{N\\to \\infty }{\\sqrt {N}}{\\left({\\frac {{\\bar {X}}_{N}-\\mu }{\\sigma }}\\right)}$ is a standard normal distribution. Can you propose an visual illustration of this theorem?"
   ]
  },
  {
   "cell_type": "code",
   "execution_count": 22,
   "id": "3794ca66",
   "metadata": {},
   "outputs": [],
   "source": [
    "# your answer here"
   ]
  },
  {
   "cell_type": "markdown",
   "id": "01aad77d-1e61-4256-9963-a2f25e1e679a",
   "metadata": {
    "slideshow": {
     "slide_type": "subslide"
    }
   },
   "source": [
    "## Pandas for advanced array manipulation\n",
    "\n",
    "Compared to numpy which already handles arrays of numbers, Pandas essentially handles **metadata**. This will allow you to use predefined functions in pandas especially when it comes to time series manipulations. \n",
    "\n",
    "Pandas has a lot of other nice features like\n",
    "\n",
    "- Intuitive handling of missing data (NaN)\n",
    "- Input/output in many formats\n",
    "- Simplified plotting procedures (labels, axes, etc. are added automatically)\n",
    "- Better management of the memory"
   ]
  },
  {
   "cell_type": "markdown",
   "id": "78cf2acd-8cda-4d84-986b-0c47b585686d",
   "metadata": {},
   "source": [
    "### Data download\n",
    "\n",
    "If you are running a standalone version of the notebook, you will have to download the data first by running:\n",
    "\n",
    "`!mkdir data`\n",
    "\n",
    "`!wget -P data/ https://scrippsco2.ucsd.edu/assets/data/atmospheric/stations/in_situ_co2/daily/daily_in_situ_co2_mlo.csv`\n",
    "\n",
    "and in case wget is not installed, you can install it with\n",
    "\n",
    "!pip install wget\n",
    "\n",
    "!python -m wget -o 'data/daily_in_situ_co2_mlo.csv' https://scrippsco2.ucsd.edu/assets/data/atmospheric/stations/in_situ_co2/daily/daily_in_situ_co2_mlo.csv\n",
    " "
   ]
  },
  {
   "cell_type": "markdown",
   "id": "74b1db1c-44b5-4f0f-9dab-a3f2fdcf5ac8",
   "metadata": {
    "slideshow": {
     "slide_type": "subslide"
    }
   },
   "source": [
    "We are going to explore the basic functionalities of pandas with the historical CO2 measurements taken at Mona Loa also known as the [Keeling curve](https://en.wikipedia.org/wiki/Keeling_Curve). The data can be downloaded at [scrippsco2.ucsd.edu](http://scrippsco2.ucsd.edu) and we are going to analyze the daily output."
   ]
  },
  {
   "cell_type": "markdown",
   "id": "4a51c4a8",
   "metadata": {
    "slideshow": {
     "slide_type": "subslide"
    }
   },
   "source": [
    "Take a moment to inspect the file that is located here `data/daily_in_situ_co2_mlo.csv` (either use a text editor or navigate within jupyter to open the file). Read the header to understand what is the data set about (you may have to investigate more to know about the units). \n",
    "\n",
    "> **Question**\n",
    "> - Why is there NaN in the data set?"
   ]
  },
  {
   "cell_type": "code",
   "execution_count": 23,
   "id": "4bc9851a",
   "metadata": {
    "slideshow": {
     "slide_type": "subslide"
    }
   },
   "outputs": [],
   "source": [
    "import pandas as pd"
   ]
  },
  {
   "cell_type": "markdown",
   "id": "084fbf75",
   "metadata": {
    "slideshow": {
     "slide_type": "subslide"
    }
   },
   "source": [
    "We are going to use the function [`pd.read_csv`](https://pandas.pydata.org/pandas-docs/stable/reference/api/pandas.read_csv.html) to import the data in python. It is very important to do a clean import of the data so that we can work efficiently afterwards. Pay extra attention to \n",
    "- the commented part in the header (hint: `comment`)\n",
    "- add a name to each column. Use the names **year**, **month**, **day** for the corresponding columns. This way, pandas will directly recognize what they are (hint: `names`)\n",
    "- pandas handles spaces in cvs files in a very specific way: you may need to adjust its behavior with `skipinitialspace`.\n",
    "\n",
    "Use `pd.read_csv` to load the content of `data/daily_in_situ_co2_mlo.csv` into a DataFrame called `df`."
   ]
  },
  {
   "cell_type": "code",
   "execution_count": 24,
   "id": "5d3c3775",
   "metadata": {
    "slideshow": {
     "slide_type": "subslide"
    }
   },
   "outputs": [],
   "source": [
    "df = pd.read_csv('data/daily_in_situ_co2_mlo.csv', comment='%',names=[\"Year\", \"Month\", \"Day\", \"CO2\", \"NB\", \"scale\"], skipinitialspace=True)"
   ]
  },
  {
   "cell_type": "markdown",
   "id": "2cce54df",
   "metadata": {
    "slideshow": {
     "slide_type": "subslide"
    }
   },
   "source": [
    "To access your data, you will need to know the metadata, i.e. the label of each column in the csv file (in this case provided by yourself). You can get a quick overview of your data by typing `df.head()` or `df.describe()`. You will see that the Dataframe `df` can be treated like a spreadsheet with labeled columns and entries for each column. You can view the labels with `df.columns` and the rows indices with `df.index`. Make sure you understand the type of each column of the dataset with `df.dtypes`. "
   ]
  },
  {
   "cell_type": "code",
   "execution_count": 25,
   "id": "7e0853b0",
   "metadata": {
    "slideshow": {
     "slide_type": "subslide"
    }
   },
   "outputs": [],
   "source": [
    "#look at the data set here"
   ]
  },
  {
   "cell_type": "markdown",
   "id": "79666f34",
   "metadata": {
    "slideshow": {
     "slide_type": "subslide"
    }
   },
   "source": [
    "You can select a column of the DataFrame by passing one name to `df` like `df[\"Year\"]`. You can also select multiple columns by passing a list of names `df[[\"Year\", \"Month\"]]`. To select specific rows, you need to use the metho `df.loc[i0:i1]` with `i0` and `i1`, the lower and upper bounds of the index. In our case we did not provide labels for the index so pandas automatically numbered the rows with a simple counter `0,1,...`. In that case, `i0` and `i1` are integers but we will see later that `i0` and `i1` can also be two dates (if the index is a date).\n",
    "\n",
    "> ***Question***\n",
    "> - Create a new DataFrame that contains only the first 100 entries and with the columns `Year` and `CO2` only."
   ]
  },
  {
   "cell_type": "code",
   "execution_count": 26,
   "id": "8e1431d4",
   "metadata": {
    "slideshow": {
     "slide_type": "subslide"
    }
   },
   "outputs": [],
   "source": [
    "# your answer here"
   ]
  },
  {
   "cell_type": "markdown",
   "id": "36d10236",
   "metadata": {
    "slideshow": {
     "slide_type": "subslide"
    }
   },
   "source": [
    "One killer feature of pandas is the way it handles time series. In order to use the full potential of such tool, one need to change the index to a date that is recognized by pandas. We use [`pd.to_datetime`](https://pandas.pydata.org/pandas-docs/stable/reference/api/pandas.to_datetime.html) to combine the information in the year, month and day columns of the dataframe. `pd.to_datetime` handles several formats as input and you should be careful to use the correct input format. However, because we carefully chose the name of the columns when we imported the file, we can directly assemble the columns `Year`, `Month`, `Day` to create a new datetime object. You can follow the method in the [documentation](https://pandas.pydata.org/pandas-docs/stable/user_guide/timeseries.html#assembling-datetime-from-multiple-dataframe-columns) to re-allocate `df.index` to a `datetime` type variable. Henceforth, we will use `df.index` to access the time dimension."
   ]
  },
  {
   "cell_type": "code",
   "execution_count": 27,
   "id": "3e5274ec",
   "metadata": {
    "slideshow": {
     "slide_type": "subslide"
    }
   },
   "outputs": [],
   "source": [
    "#your answer here"
   ]
  },
  {
   "cell_type": "markdown",
   "id": "8d7346a8",
   "metadata": {
    "slideshow": {
     "slide_type": "subslide"
    }
   },
   "source": [
    "> ***Question (Optional)***\n",
    "> - Note that one could have done this operation directly while reading the data. Use `parse_dates` in `pd.read_csv` to create a datetime object in `df`. Try it."
   ]
  },
  {
   "cell_type": "code",
   "execution_count": 28,
   "id": "7b87b2f8",
   "metadata": {},
   "outputs": [],
   "source": [
    "# your code here"
   ]
  },
  {
   "cell_type": "markdown",
   "id": "2b45e4d4",
   "metadata": {
    "slideshow": {
     "slide_type": "subslide"
    }
   },
   "source": [
    "Now `df.index` contain [Timestamp](https://pandas.pydata.org/docs/reference/api/pandas.Timestamp.html)s. You can quickly access the day, month, year of the records by using `df.index.day`, `df.index.month` `df.index.year` (etc. see documentation). You can also construct time intervals (or [timedetla](https://pandas.pydata.org/docs/reference/api/pandas.Timedelta.html)s) by subtracting two timestamps\n",
    "\n",
    "> ***Question***\n",
    "> - Subtract the first index to the last index to know how many days are in this data set"
   ]
  },
  {
   "cell_type": "code",
   "execution_count": 29,
   "id": "9c1a39be",
   "metadata": {
    "slideshow": {
     "slide_type": "subslide"
    }
   },
   "outputs": [],
   "source": [
    "#your answer here"
   ]
  },
  {
   "cell_type": "markdown",
   "id": "e31de2fc",
   "metadata": {},
   "source": [
    "You can now select specific rows of your dataset by passing dates to the `.loc[]` method, as in `.loc[date0:date1]`. The two dates `date0` and `date1` can be written as strings in the format `'YYYY-MM-DD'` (e.g. `'2020-09-20'`) or simply `'YYYY-MM'`. \n",
    "\n",
    "If `date0` is only `'2020-09'` (you are missing the days), Pandas will interpret it as the first day of September 2020. Note that Pandas can also interpret `'2020-09'` as the whole month of September 2020 if this is the only argument as in `.loc[date0]`.\n",
    "\n",
    "> ***Question***\n",
    "> - Select the whole month of September 2020 with two different methods\n"
   ]
  },
  {
   "cell_type": "code",
   "execution_count": 30,
   "id": "4cbd77ed",
   "metadata": {},
   "outputs": [],
   "source": [
    "#your code here"
   ]
  },
  {
   "cell_type": "markdown",
   "id": "7e030413",
   "metadata": {
    "slideshow": {
     "slide_type": "subslide"
    }
   },
   "source": [
    "Pandas has built-in plotting features that are based on matplotlib. Since you now master matplotlib, you will find it very easy to plot data within pandas. \n",
    "\n",
    "> ***Question***\n",
    "> - Plot the CO2 time series as a function of time. (Hint: select the column of interest in df and simply apply the method `.plot()`)"
   ]
  },
  {
   "cell_type": "code",
   "execution_count": 31,
   "id": "60e54eb1",
   "metadata": {
    "slideshow": {
     "slide_type": "subslide"
    }
   },
   "outputs": [],
   "source": [
    "# your answer here"
   ]
  },
  {
   "cell_type": "markdown",
   "id": "29beed2e",
   "metadata": {
    "slideshow": {
     "slide_type": "subslide"
    }
   },
   "source": [
    "The CO2 curve is increasing. This is not really a surprised isn't it?. However, we also notice wiglly patterns superimposed to this trend. Are we looking at noisy data are does it have a physical meaning?\n",
    "\n",
    "> ***Question***\n",
    "> - In order to get a closer look, can you plot only 2 years of the CO2 time series between Jan 1st 2000 and Jan 1st 2002?"
   ]
  },
  {
   "cell_type": "code",
   "execution_count": 32,
   "id": "01624960",
   "metadata": {
    "slideshow": {
     "slide_type": "subslide"
    }
   },
   "outputs": [],
   "source": [
    "#your answer here"
   ]
  },
  {
   "cell_type": "markdown",
   "id": "2feb6af3",
   "metadata": {
    "slideshow": {
     "slide_type": "subslide"
    }
   },
   "source": [
    "So there seem to be a lot of variability and many missing data in this data set. We can try to average all available data for each single year that we have. That way we will probably see a smoother curve. The [`resample`](https://pandas.pydata.org/docs/reference/api/pandas.DataFrame.resample.html) function is here to create a new time series with the desired sampling frequency. The acronym for standard time intervals are listed in the [Time series documentation](https://pandas.pydata.org/pandas-docs/stable/user_guide/timeseries.html#offset-aliases). You need to either add the method `.mean()` or `.sum()` to the resampled data to indicate how to treat the data in the resampling interval.\n",
    "\n",
    "> ***Question***\n",
    "> - Plot the yearly average evolution of the CO2 concentration."
   ]
  },
  {
   "cell_type": "code",
   "execution_count": 33,
   "id": "39ecc55d",
   "metadata": {
    "slideshow": {
     "slide_type": "subslide"
    }
   },
   "outputs": [],
   "source": [
    "#your answer here"
   ]
  },
  {
   "cell_type": "markdown",
   "id": "aa3f38d5",
   "metadata": {
    "slideshow": {
     "slide_type": "subslide"
    }
   },
   "source": [
    "These wiggles are not random but are the actual annual cycle of the data.\n",
    "> ***Question (Optional)***\n",
    "> - Use the method `.groupby` to plot the annual cycle\n",
    "> - Discuss the physical origin of this anual cycle"
   ]
  },
  {
   "cell_type": "code",
   "execution_count": 34,
   "id": "18a7e651",
   "metadata": {
    "slideshow": {
     "slide_type": "subslide"
    }
   },
   "outputs": [],
   "source": [
    "#your answer here"
   ]
  },
  {
   "cell_type": "markdown",
   "id": "9d54f3c4",
   "metadata": {
    "slideshow": {
     "slide_type": "subslide"
    }
   },
   "source": [
    "## Scikit-learn for data analysis"
   ]
  },
  {
   "cell_type": "markdown",
   "id": "822fc378",
   "metadata": {
    "slideshow": {
     "slide_type": "subslide"
    }
   },
   "source": [
    "[Scikit-learn](https://scikit-learn.org/) will be our toolbox for all statistical analysis. It provides the most popular machine learning algorithm, is well documented and has an active user community. Scikit learn does not work well with missing data. So in order to have a smooth transition between pandas and scikit-learn, it is convenient to create a copy of your DataFrame without any `NaN`. Make sure you use (and understand) the [`.copy()`](https://pandas.pydata.org/pandas-docs/stable/reference/api/pandas.DataFrame.copy.html) method to create the new array because we are going to make modification to this new DataFrame. You can call this new DataFrame `dfv`."
   ]
  },
  {
   "cell_type": "code",
   "execution_count": 35,
   "id": "0f8ad71c",
   "metadata": {
    "slideshow": {
     "slide_type": "subslide"
    }
   },
   "outputs": [],
   "source": [
    "dfv = df.dropna().copy()"
   ]
  },
  {
   "cell_type": "markdown",
   "id": "9f035614",
   "metadata": {
    "slideshow": {
     "slide_type": "subslide"
    }
   },
   "source": [
    "Because we cannot do a linear regression with dates as indices, we need to create an additional column that contains the day number since the begining of the dataset. Remember how we worked with timedelta (and broadcasting) above?\n",
    "\n",
    "> ***Question***\n",
    "> - Can you create this new column and name it `counter`?\n",
    "\n",
    "*Be careful that this new variable must have dtype int (or float) and not a timedelta. (Hint: look at the [attributes of timedelta](https://pandas.pydata.org/pandas-docs/stable/user_guide/timedeltas.html#attributes))*"
   ]
  },
  {
   "cell_type": "code",
   "execution_count": 36,
   "id": "0f09b985",
   "metadata": {
    "slideshow": {
     "slide_type": "subslide"
    }
   },
   "outputs": [],
   "source": [
    "#dfv[\"counter\"] = "
   ]
  },
  {
   "cell_type": "markdown",
   "id": "8460c4a1",
   "metadata": {
    "slideshow": {
     "slide_type": "subslide"
    }
   },
   "source": [
    "We are now ready to use the [linear regression](https://scikit-learn.org/stable/modules/generated/sklearn.linear_model.LinearRegression.html) module."
   ]
  },
  {
   "cell_type": "code",
   "execution_count": 37,
   "id": "56d470f0",
   "metadata": {
    "slideshow": {
     "slide_type": "subslide"
    }
   },
   "outputs": [],
   "source": [
    "from sklearn.linear_model import LinearRegression"
   ]
  },
  {
   "cell_type": "markdown",
   "id": "ab0646dc",
   "metadata": {
    "slideshow": {
     "slide_type": "subslide"
    }
   },
   "source": [
    "We are first going to [fit](https://scikit-learn.org/stable/modules/generated/sklearn.linear_model.LinearRegression.html#sklearn.linear_model.LinearRegression.fit) the data. As explained in the documentation, this function takes at least two arguments: the predictors and the observations. Predictors must be a 2d array of shape (n_samples, n_features), **even if there is only ONE feature**. One simple way to achieve this is to select a list of only one variable in the DataFrame (i.e. `dfv[[\"counter\"]]`, note the usage of double brackets here).\n",
    "\n",
    "> ***Question***\n",
    "> - Create the input variable `X` (day since first record) and the output variable `y` (CO2 concentration)\n",
    "> - Perform the linear regression and put the output in the variable `reg`."
   ]
  },
  {
   "cell_type": "code",
   "execution_count": 38,
   "id": "d829a84f",
   "metadata": {
    "slideshow": {
     "slide_type": "subslide"
    }
   },
   "outputs": [],
   "source": [
    "#X = \n",
    "#y  \n",
    "#reg = "
   ]
  },
  {
   "cell_type": "markdown",
   "id": "0c218be8",
   "metadata": {
    "slideshow": {
     "slide_type": "subslide"
    }
   },
   "source": [
    "> ***Question***\n",
    "> - What is the value of the regression coefficient?\n",
    "> - What is its physical meaning?"
   ]
  },
  {
   "cell_type": "code",
   "execution_count": 39,
   "id": "e004f059",
   "metadata": {
    "slideshow": {
     "slide_type": "subslide"
    }
   },
   "outputs": [],
   "source": [
    "#your code here"
   ]
  },
  {
   "cell_type": "markdown",
   "id": "9a06f874",
   "metadata": {
    "slideshow": {
     "slide_type": "subslide"
    }
   },
   "source": [
    "> ***Question***\n",
    "> - Use the method `.predict` to construct the predicted value at all observation times and add it to the `dfv` DataFrame."
   ]
  },
  {
   "cell_type": "code",
   "execution_count": 40,
   "id": "6dd18269",
   "metadata": {
    "slideshow": {
     "slide_type": "subslide"
    }
   },
   "outputs": [],
   "source": [
    "#dfv[\"CO2_fit\"] ="
   ]
  },
  {
   "cell_type": "markdown",
   "id": "fc11ec23",
   "metadata": {
    "slideshow": {
     "slide_type": "subslide"
    }
   },
   "source": [
    "> ***Question***\n",
    "> - Plot the observed value along with your prediction on a single plot."
   ]
  },
  {
   "cell_type": "code",
   "execution_count": 41,
   "id": "8411e407",
   "metadata": {
    "slideshow": {
     "slide_type": "subslide"
    }
   },
   "outputs": [],
   "source": [
    "#your code here"
   ]
  },
  {
   "cell_type": "markdown",
   "id": "74e77b2e",
   "metadata": {
    "slideshow": {
     "slide_type": "subslide"
    }
   },
   "source": [
    "It is now super easy to compute the co2 growth rate in ppm/year for several time periods.\n",
    "> ***Question***\n",
    "> - Perform 2 linear regressions: one between 1960 and 1980 and one between 2000 and 2020 and compare how the growth rate evolved over time.\n",
    "> - Can you give an estimate of the CO2 concentration in 2050?\n"
   ]
  },
  {
   "cell_type": "code",
   "execution_count": 42,
   "id": "3360b894",
   "metadata": {},
   "outputs": [],
   "source": [
    "#reg_2000 = LinearRegression().fit(dfv[[\"counter\"]][dfv.index.year>2000], dfv[\"CO2\"][dfv.index.year>2000])\n",
    "#reg_1960 = LinearRegression().fit(dfv[[\"counter\"]][dfv.index.year<1980], dfv[\"CO2\"][dfv.index.year<1980])\n",
    "\n",
    "#print(\"The growth rate changed from {}ppm/day to {}ppm/day from 1970 to 2010\".format(reg_1960.coef_,reg_2000.coef_))\n",
    "\n",
    "## rough estimate of the number of days between 1960 and 2050 (90 years x 365 days)\n",
    "#nday_2050 = 90*365\n",
    "#predict_co2_2050 = reg_2000.intercept_ + nday_2050*reg_2000.coef_\n",
    "#print(f\"With the most recent growth rate, there will be {predict_co2_2050} ppm of CO2 in 2050\""
   ]
  },
  {
   "cell_type": "markdown",
   "id": "5e186998",
   "metadata": {
    "slideshow": {
     "slide_type": "slide"
    }
   },
   "source": [
    "***\n",
    "## Credit\n",
    "\n",
    "[//]: # \"This notebook is part of [E4C Interdisciplinary Center - Education](https://gitlab.in2p3.fr/energy4climate/public/education).\"\n",
    "Contributors include Bruno Deremble and Alexis Tantet.\n",
    "\n",
    "<br>\n",
    "\n",
    "<div style=\"display: flex; height: 70px\">\n",
    "    \n",
    "<img alt=\"Logo LMD\" src=\"images/logos/logo_lmd.jpg\" style=\"display: inline-block\"/>\n",
    "\n",
    "<img alt=\"Logo IPSL\" src=\"images/logos/logo_ipsl.png\" style=\"display: inline-block\"/>\n",
    "\n",
    "<img alt=\"Logo E4C\" src=\"images/logos/logo_e4c_final.png\" style=\"display: inline-block\"/>\n",
    "\n",
    "<img alt=\"Logo EP\" src=\"images/logos/logo_ep.png\" style=\"display: inline-block\"/>\n",
    "\n",
    "<img alt=\"Logo SU\" src=\"images/logos/logo_su.png\" style=\"display: inline-block\"/>\n",
    "\n",
    "<img alt=\"Logo ENS\" src=\"images/logos/logo_ens.jpg\" style=\"display: inline-block\"/>\n",
    "\n",
    "<img alt=\"Logo CNRS\" src=\"images/logos/logo_cnrs.png\" style=\"display: inline-block\"/>\n",
    "    \n",
    "</div>\n",
    "\n",
    "<hr>\n",
    "\n",
    "<div style=\"display: flex\">\n",
    "    <a rel=\"license\" href=\"http://creativecommons.org/licenses/by-sa/4.0/\"><img alt=\"Creative Commons License\" style=\"border-width:0; margin-right: 10px\" src=\"https://i.creativecommons.org/l/by-sa/4.0/88x31.png\" /></a>\n",
    "    <br>This work is licensed under a &nbsp; <a rel=\"license\" href=\"http://creativecommons.org/licenses/by-sa/4.0/\">Creative Commons Attribution-ShareAlike 4.0 International License</a>.\n",
    "</div>"
   ]
  }
 ],
 "metadata": {
  "celltoolbar": "Slideshow",
  "kernelspec": {
   "display_name": "Python 3 (ipykernel)",
   "language": "python",
   "name": "python3"
  },
  "language_info": {
   "codemirror_mode": {
    "name": "ipython",
    "version": 3
   },
   "file_extension": ".py",
   "mimetype": "text/x-python",
   "name": "python",
   "nbconvert_exporter": "python",
   "pygments_lexer": "ipython3",
   "version": "3.9.0"
  },
  "latex_envs": {
   "LaTeX_envs_menu_present": true,
   "autoclose": true,
   "autocomplete": false,
   "bibliofile": "biblio.bib",
   "cite_by": "apalike",
   "current_citInitial": 1,
   "eqLabelWithNumbers": true,
   "eqNumInitial": 1,
   "hotkeys": {
    "equation": "Ctrl-E",
    "itemize": "Ctrl-I"
   },
   "labels_anchors": false,
   "latex_user_defs": false,
   "report_style_numbering": false,
   "user_envs_cfg": false
  },
  "toc": {
   "base_numbering": 1,
   "nav_menu": {},
   "number_sections": true,
   "sideBar": true,
   "skip_h1_title": false,
   "title_cell": "Table of Contents",
   "title_sidebar": "Contents",
   "toc_cell": false,
   "toc_position": {},
   "toc_section_display": true,
   "toc_window_display": false
  },
  "varInspector": {
   "cols": {
    "lenName": 16,
    "lenType": 16,
    "lenVar": 40
   },
   "kernels_config": {
    "python": {
     "delete_cmd_postfix": "",
     "delete_cmd_prefix": "del ",
     "library": "var_list.py",
     "varRefreshCmd": "print(var_dic_list())"
    },
    "r": {
     "delete_cmd_postfix": ") ",
     "delete_cmd_prefix": "rm(",
     "library": "var_list.r",
     "varRefreshCmd": "cat(var_dic_list()) "
    }
   },
   "types_to_exclude": [
    "module",
    "function",
    "builtin_function_or_method",
    "instance",
    "_Feature"
   ],
   "window_display": false
  }
 },
 "nbformat": 4,
 "nbformat_minor": 5
}
